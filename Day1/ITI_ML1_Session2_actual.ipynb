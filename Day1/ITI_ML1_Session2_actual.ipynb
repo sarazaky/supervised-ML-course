{
 "cells": [
  {
   "cell_type": "code",
   "execution_count": 3,
   "metadata": {
    "id": "ssDaFlDoYrS-"
   },
   "outputs": [],
   "source": [
    "import numpy as np\n",
    "import matplotlib.pyplot as plt\n",
    "from sklearn.linear_model import LinearRegression\n",
    "from sklearn.preprocessing import PolynomialFeatures  \n",
    "import pandas as pd\n",
    "import math"
   ]
  },
  {
   "cell_type": "markdown",
   "metadata": {
    "id": "t3puDVFxXG62"
   },
   "source": [
    "Generate Synthetic Data "
   ]
  },
  {
   "cell_type": "code",
   "execution_count": 12,
   "metadata": {
    "id": "h_n2cGWSVPcV"
   },
   "outputs": [],
   "source": [
    "# Let's create our own dataset\n",
    "\n",
    "# generate the input using uniform distribution over [0, 1)\n",
    "num_points= 100 \n",
    "x1 = 2* np.random.rand(num_points, 1) \n",
    "gaussian_noise= np.random.randn(num_points, 1)\n",
    "theta0= 5\n",
    "theta1= 1\n",
    "t = theta0 + theta1 * x1 + gaussian_noise\n",
    "\n",
    "# generate the output using the parameter you choose"
   ]
  },
  {
   "cell_type": "code",
   "execution_count": 13,
   "metadata": {
    "colab": {
     "base_uri": "https://localhost:8080/"
    },
    "id": "042-KRdwabXg",
    "outputId": "5beff7c0-7391-45b5-b37f-ba73b35df805"
   },
   "outputs": [
    {
     "data": {
      "text/plain": [
       "array([[4.82584803],\n",
       "       [1.10930901]])"
      ]
     },
     "execution_count": 13,
     "metadata": {
      "tags": []
     },
     "output_type": "execute_result"
    }
   ],
   "source": [
    "x0= np.ones((num_points, 1))\n",
    "X = np.c_[x0, x1] # add x0 = 1 to each instance\n",
    "theta_best = np.linalg.inv(X.T.dot(X)).dot(X.T).dot(t)\n",
    "theta_best"
   ]
  },
  {
   "cell_type": "code",
   "execution_count": null,
   "metadata": {
    "colab": {
     "base_uri": "https://localhost:8080/"
    },
    "id": "smshP2l_b7aX",
    "outputId": "e111b17e-b03d-46b3-f376-d011680997a4"
   },
   "outputs": [
    {
     "data": {
      "text/plain": [
       "array([[3.89766411],\n",
       "       [9.99419553]])"
      ]
     },
     "execution_count": 7,
     "metadata": {
      "tags": []
     },
     "output_type": "execute_result"
    }
   ],
   "source": [
    "#Use the close form formula\n",
    "# You need to add 1 to x1 to create a matrix that include x1 and x0(intercept )"
   ]
  },
  {
   "cell_type": "code",
   "execution_count": 16,
   "metadata": {
    "colab": {
     "base_uri": "https://localhost:8080/",
     "height": 265
    },
    "id": "Cc_4VxlS8W1j",
    "outputId": "32fdb675-9442-4691-e269-95cf12f5d046"
   },
   "outputs": [
    {
     "data": {
      "image/png": "[encoded data removed]",
      "text/plain": [
       "<Figure size 432x288 with 1 Axes>"
      ]
     },
     "metadata": {
      "needs_background": "light",
      "tags": []
     },
     "output_type": "display_data"
    }
   ],
   "source": [
    "#Let's plot the data\n",
    "X_new = np.c_[np.ones((num_points, 1)), x1] # add x0 = 1 to each instance\n",
    "y_predict = X_new.dot(theta_best)\n",
    "plt.plot(x1, y_predict, \"r-\")\n",
    "plt.plot(x1, t, \"b.\")\n",
    "plt.axis([0, 2, 0, 15]) #x axis range 0 to 2 and y axis range 0 to 15\n",
    "plt.show()\n"
   ]
  },
  {
   "cell_type": "code",
   "execution_count": 14,
   "metadata": {
    "colab": {
     "base_uri": "https://localhost:8080/"
    },
    "id": "Hr8lf4adedwf",
    "outputId": "c00fd411-468b-404f-c684-b9e956cab38e"
   },
   "outputs": [
    {
     "data": {
      "text/plain": [
       "(array([4.82584803]), array([[1.10930901]]))"
      ]
     },
     "execution_count": 14,
     "metadata": {
      "tags": []
     },
     "output_type": "execute_result"
    }
   ],
   "source": [
    "lin_reg = LinearRegression()\n",
    "lin_reg.fit(x1, t)\n",
    "lin_reg.intercept_, lin_reg.coef_"
   ]
  },
  {
   "cell_type": "markdown",
   "metadata": {
    "id": "bRzxamIIfpZU"
   },
   "source": [
    "Work with Position Salaries Dataset"
   ]
  },
  {
   "cell_type": "markdown",
   "metadata": {
    "id": "8WkGrQgpBx9L"
   },
   "source": [
    "https://www.kaggle.com/akram24/position-salaries"
   ]
  },
  {
   "cell_type": "code",
   "execution_count": 18,
   "metadata": {
    "colab": {
     "base_uri": "https://localhost:8080/",
     "height": 205
    },
    "id": "97lx8opofo6e",
    "outputId": "1a947d2c-0a1c-4014-a367-83f55a0bee69"
   },
   "outputs": [
    {
     "data": {
      "text/html": [
       "<div>\n",
       "<style scoped>\n",
       "    .dataframe tbody tr th:only-of-type {\n",
       "        vertical-align: middle;\n",
       "    }\n",
       "\n",
       "    .dataframe tbody tr th {\n",
       "        vertical-align: top;\n",
       "    }\n",
       "\n",
       "    .dataframe thead th {\n",
       "        text-align: right;\n",
       "    }\n",
       "</style>\n",
       "<table border=\"1\" class=\"dataframe\">\n",
       "  <thead>\n",
       "    <tr style=\"text-align: right;\">\n",
       "      <th></th>\n",
       "      <th>Position</th>\n",
       "      <th>Level</th>\n",
       "      <th>Salary</th>\n",
       "    </tr>\n",
       "  </thead>\n",
       "  <tbody>\n",
       "    <tr>\n",
       "      <th>0</th>\n",
       "      <td>Business Analyst</td>\n",
       "      <td>1</td>\n",
       "      <td>45000</td>\n",
       "    </tr>\n",
       "    <tr>\n",
       "      <th>1</th>\n",
       "      <td>Junior Consultant</td>\n",
       "      <td>2</td>\n",
       "      <td>50000</td>\n",
       "    </tr>\n",
       "    <tr>\n",
       "      <th>2</th>\n",
       "      <td>Senior Consultant</td>\n",
       "      <td>3</td>\n",
       "      <td>60000</td>\n",
       "    </tr>\n",
       "    <tr>\n",
       "      <th>3</th>\n",
       "      <td>Manager</td>\n",
       "      <td>4</td>\n",
       "      <td>80000</td>\n",
       "    </tr>\n",
       "    <tr>\n",
       "      <th>4</th>\n",
       "      <td>Country Manager</td>\n",
       "      <td>5</td>\n",
       "      <td>110000</td>\n",
       "    </tr>\n",
       "  </tbody>\n",
       "</table>\n",
       "</div>"
      ],
      "text/plain": [
       "            Position  Level  Salary\n",
       "0   Business Analyst      1   45000\n",
       "1  Junior Consultant      2   50000\n",
       "2  Senior Consultant      3   60000\n",
       "3            Manager      4   80000\n",
       "4    Country Manager      5  110000"
      ]
     },
     "execution_count": 18,
     "metadata": {
      "tags": []
     },
     "output_type": "execute_result"
    }
   ],
   "source": [
    "dataset=pd.read_csv('/content/Position_Salaries.csv')\n",
    "dataset.head()"
   ]
  },
  {
   "cell_type": "code",
   "execution_count": 19,
   "metadata": {
    "colab": {
     "base_uri": "https://localhost:8080/"
    },
    "id": "RO26kA75wsfw",
    "outputId": "29f86b90-9f0d-46e1-bde6-ebb4d31e2cfe"
   },
   "outputs": [
    {
     "data": {
      "text/plain": [
       "LinearRegression(copy_X=True, fit_intercept=True, n_jobs=None, normalize=False)"
      ]
     },
     "execution_count": 19,
     "metadata": {
      "tags": []
     },
     "output_type": "execute_result"
    }
   ],
   "source": [
    "# fit a model \n",
    "# separate input and output\n",
    "x=dataset.iloc[:,1:2].values\n",
    "y=dataset.iloc[:,2].values\n",
    "#fit a regression model\n",
    "lin_reg= LinearRegression()  \n",
    "lin_reg.fit(x,y)  "
   ]
  },
  {
   "cell_type": "code",
   "execution_count": 20,
   "metadata": {
    "colab": {
     "base_uri": "https://localhost:8080/",
     "height": 295
    },
    "id": "Jyomak8Cg90d",
    "outputId": "d8b05655-aab2-4401-be7d-40fbdadf3659"
   },
   "outputs": [
    {
     "data": {
      "image/png": "[encoded data removed]",
      "text/plain": [
       "<Figure size 432x288 with 1 Axes>"
      ]
     },
     "metadata": {
      "needs_background": "light",
      "tags": []
     },
     "output_type": "display_data"
    }
   ],
   "source": [
    "# plot the data\n",
    "plt.scatter(x,y,color=\"blue\")  \n",
    "plt.plot(x,lin_reg.predict(x), color=\"red\")  \n",
    "plt.title(\"Bluff detection model(Linear Regression)\")  \n",
    "plt.xlabel(\"Position Levels\")  \n",
    "plt.ylabel(\"Salary\")  \n",
    "plt.show()"
   ]
  },
  {
   "cell_type": "code",
   "execution_count": 26,
   "metadata": {
    "colab": {
     "base_uri": "https://localhost:8080/"
    },
    "id": "WTO8jsE_hVeS",
    "outputId": "05f45101-dab5-47e4-e77b-818e7b2cd1a9"
   },
   "outputs": [
    {
     "data": {
      "text/plain": [
       "LinearRegression(copy_X=True, fit_intercept=True, n_jobs=None, normalize=False)"
      ]
     },
     "execution_count": 26,
     "metadata": {
      "tags": []
     },
     "output_type": "execute_result"
    }
   ],
   "source": [
    "#create Degree 3 model\n",
    "#generate polynomial features\n",
    "poly_reg_2= PolynomialFeatures(degree= 100)  \n",
    "x_poly= poly_reg_2.fit_transform(x)  \n",
    "lin_reg_2 =LinearRegression()  \n",
    "lin_reg_2.fit(x_poly, y)  \n",
    "#fit linear regression model  \n"
   ]
  },
  {
   "cell_type": "code",
   "execution_count": 27,
   "metadata": {
    "colab": {
     "base_uri": "https://localhost:8080/",
     "height": 295
    },
    "id": "E97YPPVch19d",
    "outputId": "e831943c-5b9b-4fb2-817e-13f778fe83bf"
   },
   "outputs": [
    {
     "data": {
      "image/png": "[encoded data removed]",
      "text/plain": [
       "<Figure size 432x288 with 1 Axes>"
      ]
     },
     "metadata": {
      "needs_background": "light",
      "tags": []
     },
     "output_type": "display_data"
    }
   ],
   "source": [
    "# plot the data\n",
    "#plot\n",
    "plt.scatter(x,y,color=\"blue\")  \n",
    "plt.plot(x, lin_reg_2.predict(poly_reg_2.fit_transform(x)), color=\"red\")  \n",
    "plt.title(\"Bluff detection model(Polynomial Regression)\")  \n",
    "plt.xlabel(\"Position Levels\")  \n",
    "plt.ylabel(\"Salary\")  \n",
    "plt.show()  "
   ]
  },
  {
   "cell_type": "markdown",
   "metadata": {
    "id": "vUI7AmEACmln"
   },
   "source": [
    "Sin"
   ]
  },
  {
   "cell_type": "code",
   "execution_count": 50,
   "metadata": {
    "colab": {
     "base_uri": "https://localhost:8080/",
     "height": 283
    },
    "id": "_K_d_XW4CpW1",
    "outputId": "d1bacd3b-f2f1-411a-ff98-d16475446298"
   },
   "outputs": [
    {
     "data": {
      "text/plain": [
       "[<matplotlib.lines.Line2D at 0x7f9e01934110>]"
      ]
     },
     "execution_count": 50,
     "metadata": {
      "tags": []
     },
     "output_type": "execute_result"
    },
    {
     "data": {
      "image/png": "[encoded data removed]",
      "text/plain": [
       "<Figure size 432x288 with 1 Axes>"
      ]
     },
     "metadata": {
      "needs_background": "light",
      "tags": []
     },
     "output_type": "display_data"
    }
   ],
   "source": [
    "#genarate 50 points of data between 0 and 2*pi\n",
    "x= 2*math.pi* np.random.rand(25, 1)\n",
    "# sort the numbers\n",
    "x= np.sort(x, axis =0)\n",
    "#Assume a true function y = sin (x) \n",
    "# I use ravel() to get a 1-D array otherwise you will have 2-D array \n",
    "y=np.sin(x).ravel()\n",
    "plt.plot(x,y,'*')"
   ]
  },
  {
   "cell_type": "code",
   "execution_count": 51,
   "metadata": {
    "colab": {
     "base_uri": "https://localhost:8080/",
     "height": 283
    },
    "id": "ROsGmx1ADA5v",
    "outputId": "5a4d2098-1f8f-4e36-c8e1-5d54d8377f2e"
   },
   "outputs": [
    {
     "data": {
      "text/plain": [
       "[<matplotlib.lines.Line2D at 0x7f9dff4fcf10>]"
      ]
     },
     "execution_count": 51,
     "metadata": {
      "tags": []
     },
     "output_type": "execute_result"
    },
    {
     "data": {
      "image/png": "[encoded data removed]",
      "text/plain": [
       "<Figure size 432x288 with 1 Axes>"
      ]
     },
     "metadata": {
      "needs_background": "light",
      "tags": []
     },
     "output_type": "display_data"
    }
   ],
   "source": [
    "#add noise to a subset of y values\n",
    "t=y + 0.01-np.random.rand(25)\n",
    "plt.plot(x,t,'*')"
   ]
  },
  {
   "cell_type": "code",
   "execution_count": 45,
   "metadata": {
    "colab": {
     "base_uri": "https://localhost:8080/"
    },
    "id": "Xmg9YE31GWXe",
    "outputId": "deabf943-8a95-49b0-cd35-bdce73ec3381"
   },
   "outputs": [
    {
     "data": {
      "text/plain": [
       "LinearRegression(copy_X=True, fit_intercept=True, n_jobs=None, normalize=False)"
      ]
     },
     "execution_count": 45,
     "metadata": {
      "tags": []
     },
     "output_type": "execute_result"
    }
   ],
   "source": [
    "lin_reg= LinearRegression()  \n",
    "lin_reg.fit(x,t)  "
   ]
  },
  {
   "cell_type": "code",
   "execution_count": 68,
   "metadata": {
    "id": "uevrBJWGFqsr"
   },
   "outputs": [],
   "source": [
    "# when we draw, I predict using more points for illustration\n",
    "x_predict=np.linspace(0,2*math.pi,200)"
   ]
  },
  {
   "cell_type": "code",
   "execution_count": 69,
   "metadata": {
    "colab": {
     "base_uri": "https://localhost:8080/",
     "height": 295
    },
    "id": "fD5JhvE6GpvT",
    "outputId": "b52c4c9c-8644-4822-8774-e9471729d536"
   },
   "outputs": [
    {
     "data": {
      "image/png": "[encoded data removed]",
      "text/plain": [
       "<Figure size 432x288 with 1 Axes>"
      ]
     },
     "metadata": {
      "needs_background": "light",
      "tags": []
     },
     "output_type": "display_data"
    }
   ],
   "source": [
    "plt.scatter(x,t,color=\"blue\") \n",
    "#You should reshape your X to be a 2D array not 1D array. Fitting a model requires requires a 2D array. \n",
    "plt.plot(x_predict, lin_reg.predict(x_predict.reshape(-1, 1)), color=\"red\")  \n",
    "plt.title(\"Bluff detection model(Polynomial Regression)\")  \n",
    "plt.xlabel(\"Position Levels\")  \n",
    "plt.ylabel(\"Salary\")  \n",
    "plt.show()"
   ]
  },
  {
   "cell_type": "code",
   "execution_count": 70,
   "metadata": {
    "colab": {
     "base_uri": "https://localhost:8080/"
    },
    "id": "sZJZVXgHG1Tu",
    "outputId": "98996d54-5fbf-4664-a6d1-5fd969d43abb"
   },
   "outputs": [
    {
     "data": {
      "text/plain": [
       "LinearRegression(copy_X=True, fit_intercept=True, n_jobs=None, normalize=False)"
      ]
     },
     "execution_count": 70,
     "metadata": {
      "tags": []
     },
     "output_type": "execute_result"
    }
   ],
   "source": [
    "poly_reg_4= PolynomialFeatures(degree= 4)\n",
    "# transform  \n",
    "x_poly= poly_reg_4.fit_transform(x)  \n",
    "lin_reg_4 =LinearRegression()  \n",
    "lin_reg_4.fit(x_poly, t)  "
   ]
  },
  {
   "cell_type": "code",
   "execution_count": 71,
   "metadata": {
    "colab": {
     "base_uri": "https://localhost:8080/",
     "height": 265
    },
    "id": "eVNlUSSGG_FF",
    "outputId": "d4c79f0c-ba92-4277-f3c8-afc1dd1ae14e"
   },
   "outputs": [
    {
     "data": {
      "image/png": "[encoded data removed]",
      "text/plain": [
       "<Figure size 432x288 with 1 Axes>"
      ]
     },
     "metadata": {
      "needs_background": "light",
      "tags": []
     },
     "output_type": "display_data"
    }
   ],
   "source": [
    "plt.scatter(x,t,color=\"blue\")  \n",
    "plt.plot(x_predict, lin_reg_4.predict(poly_reg_4.fit_transform(x_predict.reshape(-1, 1))), color=\"red\")  \n",
    "plt.show()"
   ]
  },
  {
   "cell_type": "code",
   "execution_count": 78,
   "metadata": {
    "colab": {
     "base_uri": "https://localhost:8080/"
    },
    "id": "sFBfbOByHMrl",
    "outputId": "9f3190a3-d4e4-457a-b12d-9755c776b562"
   },
   "outputs": [
    {
     "data": {
      "text/plain": [
       "LinearRegression(copy_X=True, fit_intercept=True, n_jobs=None, normalize=False)"
      ]
     },
     "execution_count": 78,
     "metadata": {
      "tags": []
     },
     "output_type": "execute_result"
    }
   ],
   "source": [
    "poly_reg_10= PolynomialFeatures(degree= 10)\n",
    "# transform  \n",
    "x_poly= poly_reg_10.fit_transform(x)  \n",
    "lin_reg_10 =LinearRegression()  \n",
    "lin_reg_10.fit(x_poly, t)  "
   ]
  },
  {
   "cell_type": "code",
   "execution_count": 81,
   "metadata": {
    "colab": {
     "base_uri": "https://localhost:8080/",
     "height": 269
    },
    "id": "LUoj-_OJHYBD",
    "outputId": "b0f272bb-1f36-42fc-f962-96c303579f69"
   },
   "outputs": [
    {
     "data": {
      "image/png": "[encoded data removed]",
      "text/plain": [
       "<Figure size 432x288 with 1 Axes>"
      ]
     },
     "metadata": {
      "needs_background": "light",
      "tags": []
     },
     "output_type": "display_data"
    }
   ],
   "source": [
    "plt.scatter(x,t,color=\"blue\")  \n",
    "plt.plot(x_predict, lin_reg_10.predict(poly_reg_10.fit_transform(x_predict.reshape(-1, 1))), color=\"red\")  \n",
    "plt.ylim([-2, 1.5])\n",
    "plt.show()"
   ]
  }
 ],
 "metadata": {
  "colab": {
   "name": "ITI-ML1-Session2-actual.ipynb",
   "provenance": []
  },
  "kernelspec": {
   "display_name": "Python 3",
   "language": "python",
   "name": "python3"
  },
  "language_info": {
   "codemirror_mode": {
    "name": "ipython",
    "version": 3
   },
   "file_extension": ".py",
   "mimetype": "text/x-python",
   "name": "python",
   "nbconvert_exporter": "python",
   "pygments_lexer": "ipython3",
   "version": "3.8.5"
  }
 },
 "nbformat": 4,
 "nbformat_minor": 1
}
