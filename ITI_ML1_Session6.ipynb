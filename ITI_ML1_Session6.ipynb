{
 "cells": [
  {
   "cell_type": "code",
   "execution_count": 31,
   "metadata": {
    "executionInfo": {
     "elapsed": 379,
     "status": "ok",
     "timestamp": 1628163660150,
     "user": {
      "displayName": "Mohamed Elshenawy",
      "photoUrl": "https://lh3.googleusercontent.com/a-/AOh14Gg-_16SSTy9EPWmB3f0cYt_TxIsKZJJFSiTpwDUqg=s64",
      "userId": "16996623712493809999"
     },
     "user_tz": -120
    },
    "id": "u9lc8jKl3maT"
   },
   "outputs": [],
   "source": [
    "import pandas as pd\n",
    "import seaborn as sns\n",
    "import matplotlib.pyplot as plt\n",
    "from sklearn.model_selection import train_test_split\n",
    "from sklearn.linear_model import LogisticRegression\n",
    "from sklearn.metrics import confusion_matrix\n",
    "from sklearn.metrics import precision_score, recall_score, accuracy_score, f1_score\n",
    "from sklearn.metrics import roc_curve\n",
    "from sklearn.metrics import roc_auc_score"
   ]
  },
  {
   "cell_type": "code",
   "execution_count": 2,
   "metadata": {
    "colab": {
     "base_uri": "https://localhost:8080/",
     "height": 202
    },
    "executionInfo": {
     "elapsed": 554,
     "status": "ok",
     "timestamp": 1628163566824,
     "user": {
      "displayName": "Mohamed Elshenawy",
      "photoUrl": "https://lh3.googleusercontent.com/a-/AOh14Gg-_16SSTy9EPWmB3f0cYt_TxIsKZJJFSiTpwDUqg=s64",
      "userId": "16996623712493809999"
     },
     "user_tz": -120
    },
    "id": "Qwq4cpMx51Cz",
    "outputId": "5c6c05e1-374e-4a50-f7bd-22c287701020"
   },
   "outputs": [
    {
     "data": {
      "text/html": [
       "<div>\n",
       "<style scoped>\n",
       "    .dataframe tbody tr th:only-of-type {\n",
       "        vertical-align: middle;\n",
       "    }\n",
       "\n",
       "    .dataframe tbody tr th {\n",
       "        vertical-align: top;\n",
       "    }\n",
       "\n",
       "    .dataframe thead th {\n",
       "        text-align: right;\n",
       "    }\n",
       "</style>\n",
       "<table border=\"1\" class=\"dataframe\">\n",
       "  <thead>\n",
       "    <tr style=\"text-align: right;\">\n",
       "      <th></th>\n",
       "      <th>PassengerId</th>\n",
       "      <th>Survived</th>\n",
       "      <th>Pclass</th>\n",
       "      <th>Name</th>\n",
       "      <th>Sex</th>\n",
       "      <th>Age</th>\n",
       "      <th>SibSp</th>\n",
       "      <th>Parch</th>\n",
       "      <th>Ticket</th>\n",
       "      <th>Fare</th>\n",
       "      <th>Cabin</th>\n",
       "      <th>Embarked</th>\n",
       "    </tr>\n",
       "  </thead>\n",
       "  <tbody>\n",
       "    <tr>\n",
       "      <th>0</th>\n",
       "      <td>1</td>\n",
       "      <td>0</td>\n",
       "      <td>3</td>\n",
       "      <td>Braund, Mr. Owen Harris</td>\n",
       "      <td>male</td>\n",
       "      <td>22.0</td>\n",
       "      <td>1</td>\n",
       "      <td>0</td>\n",
       "      <td>A/5 21171</td>\n",
       "      <td>7.2500</td>\n",
       "      <td>NaN</td>\n",
       "      <td>S</td>\n",
       "    </tr>\n",
       "    <tr>\n",
       "      <th>1</th>\n",
       "      <td>2</td>\n",
       "      <td>1</td>\n",
       "      <td>1</td>\n",
       "      <td>Cumings, Mrs. John Bradley (Florence Briggs Th...</td>\n",
       "      <td>female</td>\n",
       "      <td>38.0</td>\n",
       "      <td>1</td>\n",
       "      <td>0</td>\n",
       "      <td>PC 17599</td>\n",
       "      <td>71.2833</td>\n",
       "      <td>C85</td>\n",
       "      <td>C</td>\n",
       "    </tr>\n",
       "    <tr>\n",
       "      <th>2</th>\n",
       "      <td>3</td>\n",
       "      <td>1</td>\n",
       "      <td>3</td>\n",
       "      <td>Heikkinen, Miss. Laina</td>\n",
       "      <td>female</td>\n",
       "      <td>26.0</td>\n",
       "      <td>0</td>\n",
       "      <td>0</td>\n",
       "      <td>STON/O2. 3101282</td>\n",
       "      <td>7.9250</td>\n",
       "      <td>NaN</td>\n",
       "      <td>S</td>\n",
       "    </tr>\n",
       "    <tr>\n",
       "      <th>3</th>\n",
       "      <td>4</td>\n",
       "      <td>1</td>\n",
       "      <td>1</td>\n",
       "      <td>Futrelle, Mrs. Jacques Heath (Lily May Peel)</td>\n",
       "      <td>female</td>\n",
       "      <td>35.0</td>\n",
       "      <td>1</td>\n",
       "      <td>0</td>\n",
       "      <td>113803</td>\n",
       "      <td>53.1000</td>\n",
       "      <td>C123</td>\n",
       "      <td>S</td>\n",
       "    </tr>\n",
       "    <tr>\n",
       "      <th>4</th>\n",
       "      <td>5</td>\n",
       "      <td>0</td>\n",
       "      <td>3</td>\n",
       "      <td>Allen, Mr. William Henry</td>\n",
       "      <td>male</td>\n",
       "      <td>35.0</td>\n",
       "      <td>0</td>\n",
       "      <td>0</td>\n",
       "      <td>373450</td>\n",
       "      <td>8.0500</td>\n",
       "      <td>NaN</td>\n",
       "      <td>S</td>\n",
       "    </tr>\n",
       "  </tbody>\n",
       "</table>\n",
       "</div>"
      ],
      "text/plain": [
       "   PassengerId  Survived  Pclass  ...     Fare Cabin  Embarked\n",
       "0            1         0       3  ...   7.2500   NaN         S\n",
       "1            2         1       1  ...  71.2833   C85         C\n",
       "2            3         1       3  ...   7.9250   NaN         S\n",
       "3            4         1       1  ...  53.1000  C123         S\n",
       "4            5         0       3  ...   8.0500   NaN         S\n",
       "\n",
       "[5 rows x 12 columns]"
      ]
     },
     "execution_count": 2,
     "metadata": {
      "tags": []
     },
     "output_type": "execute_result"
    }
   ],
   "source": [
    "titanic = pd.read_csv(\"/content/train.csv\")\n",
    "titanic.head()"
   ]
  },
  {
   "cell_type": "code",
   "execution_count": 3,
   "metadata": {
    "colab": {
     "base_uri": "https://localhost:8080/",
     "height": 278
    },
    "executionInfo": {
     "elapsed": 36,
     "status": "ok",
     "timestamp": 1628163566825,
     "user": {
      "displayName": "Mohamed Elshenawy",
      "photoUrl": "https://lh3.googleusercontent.com/a-/AOh14Gg-_16SSTy9EPWmB3f0cYt_TxIsKZJJFSiTpwDUqg=s64",
      "userId": "16996623712493809999"
     },
     "user_tz": -120
    },
    "id": "2Y_9SfWS7dE0",
    "outputId": "a557d966-72ed-42c6-9764-0c6eba8ee458"
   },
   "outputs": [
    {
     "data": {
      "image/png": "[encoded data removed]",
      "text/plain": [
       "<Figure size 432x288 with 1 Axes>"
      ]
     },
     "metadata": {
      "needs_background": "light",
      "tags": []
     },
     "output_type": "display_data"
    }
   ],
   "source": [
    "sns.countplot(x='Survived', data=titanic, palette='Set1')\n",
    "plt.show()"
   ]
  },
  {
   "cell_type": "code",
   "execution_count": 4,
   "metadata": {
    "colab": {
     "base_uri": "https://localhost:8080/",
     "height": 278
    },
    "executionInfo": {
     "elapsed": 33,
     "status": "ok",
     "timestamp": 1628163566826,
     "user": {
      "displayName": "Mohamed Elshenawy",
      "photoUrl": "https://lh3.googleusercontent.com/a-/AOh14Gg-_16SSTy9EPWmB3f0cYt_TxIsKZJJFSiTpwDUqg=s64",
      "userId": "16996623712493809999"
     },
     "user_tz": -120
    },
    "id": "7--0bt0q8nJX",
    "outputId": "09bf13b5-ab5c-48f7-e42a-7bf781eda5b1"
   },
   "outputs": [
    {
     "data": {
      "image/png": "[encoded data removed]",
      "text/plain": [
       "<Figure size 432x288 with 1 Axes>"
      ]
     },
     "metadata": {
      "needs_background": "light",
      "tags": []
     },
     "output_type": "display_data"
    }
   ],
   "source": [
    "sns.countplot(x='Pclass', data=titanic, palette='Set2')\n",
    "plt.show()"
   ]
  },
  {
   "cell_type": "code",
   "execution_count": 5,
   "metadata": {
    "colab": {
     "base_uri": "https://localhost:8080/",
     "height": 296
    },
    "executionInfo": {
     "elapsed": 563,
     "status": "ok",
     "timestamp": 1628163567361,
     "user": {
      "displayName": "Mohamed Elshenawy",
      "photoUrl": "https://lh3.googleusercontent.com/a-/AOh14Gg-_16SSTy9EPWmB3f0cYt_TxIsKZJJFSiTpwDUqg=s64",
      "userId": "16996623712493809999"
     },
     "user_tz": -120
    },
    "id": "VZ_pRykA83aE",
    "outputId": "09c86a6f-b074-498d-b883-101188643dd3"
   },
   "outputs": [
    {
     "data": {
      "text/plain": [
       "<matplotlib.axes._subplots.AxesSubplot at 0x7f19a817c4d0>"
      ]
     },
     "execution_count": 5,
     "metadata": {
      "tags": []
     },
     "output_type": "execute_result"
    },
    {
     "data": {
      "image/png": "[encoded data removed]",
      "text/plain": [
       "<Figure size 432x288 with 1 Axes>"
      ]
     },
     "metadata": {
      "needs_background": "light",
      "tags": []
     },
     "output_type": "display_data"
    }
   ],
   "source": [
    "sns.countplot(x='Survived', hue='Pclass', data=titanic, palette='Set2')"
   ]
  },
  {
   "cell_type": "code",
   "execution_count": 6,
   "metadata": {
    "colab": {
     "base_uri": "https://localhost:8080/",
     "height": 296
    },
    "executionInfo": {
     "elapsed": 16,
     "status": "ok",
     "timestamp": 1628163567363,
     "user": {
      "displayName": "Mohamed Elshenawy",
      "photoUrl": "https://lh3.googleusercontent.com/a-/AOh14Gg-_16SSTy9EPWmB3f0cYt_TxIsKZJJFSiTpwDUqg=s64",
      "userId": "16996623712493809999"
     },
     "user_tz": -120
    },
    "id": "VeVL-C7u9X42",
    "outputId": "2668b9ae-6d74-40ec-acb7-847e4a6bf208"
   },
   "outputs": [
    {
     "data": {
      "text/plain": [
       "<matplotlib.axes._subplots.AxesSubplot at 0x7f19a7642190>"
      ]
     },
     "execution_count": 6,
     "metadata": {
      "tags": []
     },
     "output_type": "execute_result"
    },
    {
     "data": {
      "image/png": "[encoded data removed]",
      "text/plain": [
       "<Figure size 432x288 with 1 Axes>"
      ]
     },
     "metadata": {
      "needs_background": "light",
      "tags": []
     },
     "output_type": "display_data"
    }
   ],
   "source": [
    "sns.countplot(x='Survived', hue='Sex', data=titanic, palette='Set2')"
   ]
  },
  {
   "cell_type": "code",
   "execution_count": 7,
   "metadata": {
    "colab": {
     "base_uri": "https://localhost:8080/",
     "height": 281
    },
    "executionInfo": {
     "elapsed": 493,
     "status": "ok",
     "timestamp": 1628163567843,
     "user": {
      "displayName": "Mohamed Elshenawy",
      "photoUrl": "https://lh3.googleusercontent.com/a-/AOh14Gg-_16SSTy9EPWmB3f0cYt_TxIsKZJJFSiTpwDUqg=s64",
      "userId": "16996623712493809999"
     },
     "user_tz": -120
    },
    "id": "ocPjZLxH9ko7",
    "outputId": "004c503b-73cd-4034-805b-6548636b9215"
   },
   "outputs": [
    {
     "data": {
      "image/png": "[encoded data removed]",
      "text/plain": [
       "<Figure size 432x288 with 1 Axes>"
      ]
     },
     "metadata": {
      "needs_background": "light",
      "tags": []
     },
     "output_type": "display_data"
    }
   ],
   "source": [
    "sns.countplot(x='Sex', data=titanic, palette='Set2')\n",
    "plt.show()"
   ]
  },
  {
   "cell_type": "code",
   "execution_count": 8,
   "metadata": {
    "colab": {
     "base_uri": "https://localhost:8080/"
    },
    "executionInfo": {
     "elapsed": 52,
     "status": "ok",
     "timestamp": 1628163567845,
     "user": {
      "displayName": "Mohamed Elshenawy",
      "photoUrl": "https://lh3.googleusercontent.com/a-/AOh14Gg-_16SSTy9EPWmB3f0cYt_TxIsKZJJFSiTpwDUqg=s64",
      "userId": "16996623712493809999"
     },
     "user_tz": -120
    },
    "id": "evVkdK_o9_IW",
    "outputId": "4e186f73-8611-4296-87a0-eb35230c1b9c"
   },
   "outputs": [
    {
     "data": {
      "text/plain": [
       "PassengerId      0\n",
       "Survived         0\n",
       "Pclass           0\n",
       "Name             0\n",
       "Sex              0\n",
       "Age            177\n",
       "SibSp            0\n",
       "Parch            0\n",
       "Ticket           0\n",
       "Fare             0\n",
       "Cabin          687\n",
       "Embarked         2\n",
       "dtype: int64"
      ]
     },
     "execution_count": 8,
     "metadata": {
      "tags": []
     },
     "output_type": "execute_result"
    }
   ],
   "source": [
    "titanic.isnull().sum()"
   ]
  },
  {
   "cell_type": "code",
   "execution_count": 9,
   "metadata": {
    "colab": {
     "base_uri": "https://localhost:8080/"
    },
    "executionInfo": {
     "elapsed": 41,
     "status": "ok",
     "timestamp": 1628163567848,
     "user": {
      "displayName": "Mohamed Elshenawy",
      "photoUrl": "https://lh3.googleusercontent.com/a-/AOh14Gg-_16SSTy9EPWmB3f0cYt_TxIsKZJJFSiTpwDUqg=s64",
      "userId": "16996623712493809999"
     },
     "user_tz": -120
    },
    "id": "5po_pXat-IUe",
    "outputId": "62a27243-4020-4fd6-b45c-1e77503abd12"
   },
   "outputs": [
    {
     "name": "stdout",
     "output_type": "stream",
     "text": [
      "<class 'pandas.core.frame.DataFrame'>\n",
      "RangeIndex: 891 entries, 0 to 890\n",
      "Data columns (total 12 columns):\n",
      " #   Column       Non-Null Count  Dtype  \n",
      "---  ------       --------------  -----  \n",
      " 0   PassengerId  891 non-null    int64  \n",
      " 1   Survived     891 non-null    int64  \n",
      " 2   Pclass       891 non-null    int64  \n",
      " 3   Name         891 non-null    object \n",
      " 4   Sex          891 non-null    object \n",
      " 5   Age          714 non-null    float64\n",
      " 6   SibSp        891 non-null    int64  \n",
      " 7   Parch        891 non-null    int64  \n",
      " 8   Ticket       891 non-null    object \n",
      " 9   Fare         891 non-null    float64\n",
      " 10  Cabin        204 non-null    object \n",
      " 11  Embarked     889 non-null    object \n",
      "dtypes: float64(2), int64(5), object(5)\n",
      "memory usage: 83.7+ KB\n"
     ]
    }
   ],
   "source": [
    "titanic.info()"
   ]
  },
  {
   "cell_type": "code",
   "execution_count": 10,
   "metadata": {
    "colab": {
     "base_uri": "https://localhost:8080/",
     "height": 314
    },
    "executionInfo": {
     "elapsed": 39,
     "status": "ok",
     "timestamp": 1628163567850,
     "user": {
      "displayName": "Mohamed Elshenawy",
      "photoUrl": "https://lh3.googleusercontent.com/a-/AOh14Gg-_16SSTy9EPWmB3f0cYt_TxIsKZJJFSiTpwDUqg=s64",
      "userId": "16996623712493809999"
     },
     "user_tz": -120
    },
    "id": "q27Z00YL_GA_",
    "outputId": "79048cad-64db-48a8-83f7-7d4814191c44"
   },
   "outputs": [
    {
     "data": {
      "image/png": "[encoded data removed]",
      "text/plain": [
       "<Figure size 432x288 with 1 Axes>"
      ]
     },
     "metadata": {
      "needs_background": "light",
      "tags": []
     },
     "output_type": "display_data"
    },
    {
     "name": "stdout",
     "output_type": "stream",
     "text": [
      "Mean of age=  29.69911764705882\n",
      "Median of age=  28.0\n"
     ]
    }
   ],
   "source": [
    "ax = titanic['Age'].hist(bins=15, color='teal', alpha=0.6)\n",
    "ax.set(xlabel='Age')\n",
    "plt.xlim(-10,85)\n",
    "plt.show()\n",
    "age_mean= titanic['Age'].mean()\n",
    "age_median= titanic['Age']. median()\n",
    "print(\"Mean of age= \", age_mean)\n",
    "print(\"Median of age= \", age_median)"
   ]
  },
  {
   "cell_type": "code",
   "execution_count": 11,
   "metadata": {
    "executionInfo": {
     "elapsed": 38,
     "status": "ok",
     "timestamp": 1628163567851,
     "user": {
      "displayName": "Mohamed Elshenawy",
      "photoUrl": "https://lh3.googleusercontent.com/a-/AOh14Gg-_16SSTy9EPWmB3f0cYt_TxIsKZJJFSiTpwDUqg=s64",
      "userId": "16996623712493809999"
     },
     "user_tz": -120
    },
    "id": "uUg7ebg7_ftg"
   },
   "outputs": [],
   "source": [
    "titanic_median_age= titanic.copy()\n",
    "titanic_median_age['Age'].fillna(age_median, inplace= True)"
   ]
  },
  {
   "cell_type": "code",
   "execution_count": 12,
   "metadata": {
    "colab": {
     "base_uri": "https://localhost:8080/",
     "height": 314
    },
    "executionInfo": {
     "elapsed": 38,
     "status": "ok",
     "timestamp": 1628163567852,
     "user": {
      "displayName": "Mohamed Elshenawy",
      "photoUrl": "https://lh3.googleusercontent.com/a-/AOh14Gg-_16SSTy9EPWmB3f0cYt_TxIsKZJJFSiTpwDUqg=s64",
      "userId": "16996623712493809999"
     },
     "user_tz": -120
    },
    "id": "sRuK9plE_p_c",
    "outputId": "007f518c-9ce1-487d-d0d0-794785d6738d"
   },
   "outputs": [
    {
     "data": {
      "image/png": "[encoded data removed]",
      "text/plain": [
       "<Figure size 432x288 with 1 Axes>"
      ]
     },
     "metadata": {
      "needs_background": "light",
      "tags": []
     },
     "output_type": "display_data"
    },
    {
     "name": "stdout",
     "output_type": "stream",
     "text": [
      "Mean of age=  29.36158249158249\n",
      "Median of age=  28.0\n"
     ]
    }
   ],
   "source": [
    "ax = titanic_median_age['Age'].hist(bins=15, color='teal', alpha=0.6)\n",
    "ax.set(xlabel='Age')\n",
    "plt.xlim(-10,85)\n",
    "plt.show()\n",
    "age_mean= titanic_median_age['Age'].mean()\n",
    "age_median= titanic_median_age['Age']. median()\n",
    "print(\"Mean of age= \", age_mean)\n",
    "print(\"Median of age= \", age_median)"
   ]
  },
  {
   "cell_type": "code",
   "execution_count": 13,
   "metadata": {
    "colab": {
     "base_uri": "https://localhost:8080/",
     "height": 460
    },
    "executionInfo": {
     "elapsed": 27,
     "status": "ok",
     "timestamp": 1628163568306,
     "user": {
      "displayName": "Mohamed Elshenawy",
      "photoUrl": "https://lh3.googleusercontent.com/a-/AOh14Gg-_16SSTy9EPWmB3f0cYt_TxIsKZJJFSiTpwDUqg=s64",
      "userId": "16996623712493809999"
     },
     "user_tz": -120
    },
    "id": "Ltg5kOiMAd6n",
    "outputId": "1b0fd4fa-cf3c-43f0-e707-78459754a44c"
   },
   "outputs": [
    {
     "data": {
      "text/plain": [
       "<matplotlib.axes._subplots.AxesSubplot at 0x7f19a7494d10>"
      ]
     },
     "execution_count": 13,
     "metadata": {
      "tags": []
     },
     "output_type": "execute_result"
    },
    {
     "data": {
      "image/png": "[encoded data removed]",
      "text/plain": [
       "<Figure size 720x504 with 1 Axes>"
      ]
     },
     "metadata": {
      "needs_background": "light",
      "tags": []
     },
     "output_type": "display_data"
    }
   ],
   "source": [
    "plt.figure(figsize=(10,7))\n",
    "sns.boxplot(x='Pclass',y='Age',data=titanic, palette='Set2')"
   ]
  },
  {
   "cell_type": "code",
   "execution_count": 14,
   "metadata": {
    "executionInfo": {
     "elapsed": 17,
     "status": "ok",
     "timestamp": 1628163568310,
     "user": {
      "displayName": "Mohamed Elshenawy",
      "photoUrl": "https://lh3.googleusercontent.com/a-/AOh14Gg-_16SSTy9EPWmB3f0cYt_TxIsKZJJFSiTpwDUqg=s64",
      "userId": "16996623712493809999"
     },
     "user_tz": -120
    },
    "id": "159K6zQ7BLoE"
   },
   "outputs": [],
   "source": [
    "def get_age(cols):\n",
    "    Age = cols[0]\n",
    "    Pclass = cols[1]\n",
    "    if pd.isnull(Age):\n",
    "        condition= titanic['Pclass'] == Pclass\n",
    "        return int(titanic[condition]['Age'].median())\n",
    "    else:\n",
    "        return Age"
   ]
  },
  {
   "cell_type": "code",
   "execution_count": 15,
   "metadata": {
    "executionInfo": {
     "elapsed": 17,
     "status": "ok",
     "timestamp": 1628163568311,
     "user": {
      "displayName": "Mohamed Elshenawy",
      "photoUrl": "https://lh3.googleusercontent.com/a-/AOh14Gg-_16SSTy9EPWmB3f0cYt_TxIsKZJJFSiTpwDUqg=s64",
      "userId": "16996623712493809999"
     },
     "user_tz": -120
    },
    "id": "1KKPTsMBCLHd"
   },
   "outputs": [],
   "source": [
    "#Apply a function along an axis of the DataFrame.\n",
    "titanic['Age'] = titanic[['Age', 'Pclass']].apply(get_age,axis=1)"
   ]
  },
  {
   "cell_type": "code",
   "execution_count": 16,
   "metadata": {
    "colab": {
     "base_uri": "https://localhost:8080/",
     "height": 314
    },
    "executionInfo": {
     "elapsed": 790,
     "status": "ok",
     "timestamp": 1628163569086,
     "user": {
      "displayName": "Mohamed Elshenawy",
      "photoUrl": "https://lh3.googleusercontent.com/a-/AOh14Gg-_16SSTy9EPWmB3f0cYt_TxIsKZJJFSiTpwDUqg=s64",
      "userId": "16996623712493809999"
     },
     "user_tz": -120
    },
    "id": "uPQWAZffCZGu",
    "outputId": "523196c8-6dc9-4562-fb57-ff513f51a5bf"
   },
   "outputs": [
    {
     "data": {
      "image/png": "[encoded data removed]",
      "text/plain": [
       "<Figure size 432x288 with 1 Axes>"
      ]
     },
     "metadata": {
      "needs_background": "light",
      "tags": []
     },
     "output_type": "display_data"
    },
    {
     "name": "stdout",
     "output_type": "stream",
     "text": [
      "Mean of age=  29.06640852974186\n",
      "Median of age=  26.0\n"
     ]
    }
   ],
   "source": [
    "ax = titanic['Age'].hist(bins=15, color='teal', alpha=0.6)\n",
    "ax.set(xlabel='Age')\n",
    "plt.xlim(-10,85)\n",
    "plt.show()\n",
    "age_mean= titanic['Age'].mean()\n",
    "age_median= titanic['Age']. median()\n",
    "print(\"Mean of age= \", age_mean)\n",
    "print(\"Median of age= \", age_median)"
   ]
  },
  {
   "cell_type": "code",
   "execution_count": 17,
   "metadata": {
    "colab": {
     "base_uri": "https://localhost:8080/",
     "height": 460
    },
    "executionInfo": {
     "elapsed": 38,
     "status": "ok",
     "timestamp": 1628163569091,
     "user": {
      "displayName": "Mohamed Elshenawy",
      "photoUrl": "https://lh3.googleusercontent.com/a-/AOh14Gg-_16SSTy9EPWmB3f0cYt_TxIsKZJJFSiTpwDUqg=s64",
      "userId": "16996623712493809999"
     },
     "user_tz": -120
    },
    "id": "Slrbt4O6CpX6",
    "outputId": "7e7cf6de-9d1c-4e14-d65c-5c10d4ddb27e"
   },
   "outputs": [
    {
     "data": {
      "text/plain": [
       "<matplotlib.axes._subplots.AxesSubplot at 0x7f19a7434e90>"
      ]
     },
     "execution_count": 17,
     "metadata": {
      "tags": []
     },
     "output_type": "execute_result"
    },
    {
     "data": {
      "image/png": "[encoded data removed]",
      "text/plain": [
       "<Figure size 720x504 with 1 Axes>"
      ]
     },
     "metadata": {
      "needs_background": "light",
      "tags": []
     },
     "output_type": "display_data"
    }
   ],
   "source": [
    "plt.figure(figsize=(10,7))\n",
    "sns.boxplot(x='Pclass',y='Age',data=titanic, palette='Set2')"
   ]
  },
  {
   "cell_type": "code",
   "execution_count": 18,
   "metadata": {
    "executionInfo": {
     "elapsed": 32,
     "status": "ok",
     "timestamp": 1628163569093,
     "user": {
      "displayName": "Mohamed Elshenawy",
      "photoUrl": "https://lh3.googleusercontent.com/a-/AOh14Gg-_16SSTy9EPWmB3f0cYt_TxIsKZJJFSiTpwDUqg=s64",
      "userId": "16996623712493809999"
     },
     "user_tz": -120
    },
    "id": "FbcBqLviCu1V"
   },
   "outputs": [],
   "source": [
    "titanic.drop('Cabin', axis=1, inplace=True)"
   ]
  },
  {
   "cell_type": "code",
   "execution_count": 19,
   "metadata": {
    "colab": {
     "base_uri": "https://localhost:8080/",
     "height": 278
    },
    "executionInfo": {
     "elapsed": 32,
     "status": "ok",
     "timestamp": 1628163569094,
     "user": {
      "displayName": "Mohamed Elshenawy",
      "photoUrl": "https://lh3.googleusercontent.com/a-/AOh14Gg-_16SSTy9EPWmB3f0cYt_TxIsKZJJFSiTpwDUqg=s64",
      "userId": "16996623712493809999"
     },
     "user_tz": -120
    },
    "id": "j0tuW3uiDKrQ",
    "outputId": "ec8310cb-8f19-4961-bf9a-117359c35159"
   },
   "outputs": [
    {
     "data": {
      "image/png": "[encoded data removed]",
      "text/plain": [
       "<Figure size 432x288 with 1 Axes>"
      ]
     },
     "metadata": {
      "needs_background": "light",
      "tags": []
     },
     "output_type": "display_data"
    }
   ],
   "source": [
    "sns.countplot(x='Embarked', data=titanic, palette='Set2')\n",
    "plt.show()"
   ]
  },
  {
   "cell_type": "code",
   "execution_count": 20,
   "metadata": {
    "executionInfo": {
     "elapsed": 33,
     "status": "ok",
     "timestamp": 1628163569097,
     "user": {
      "displayName": "Mohamed Elshenawy",
      "photoUrl": "https://lh3.googleusercontent.com/a-/AOh14Gg-_16SSTy9EPWmB3f0cYt_TxIsKZJJFSiTpwDUqg=s64",
      "userId": "16996623712493809999"
     },
     "user_tz": -120
    },
    "id": "trbva1yHDXl4"
   },
   "outputs": [],
   "source": [
    "titanic['Embarked'].fillna('S', inplace=True)"
   ]
  },
  {
   "cell_type": "code",
   "execution_count": 21,
   "metadata": {
    "colab": {
     "base_uri": "https://localhost:8080/"
    },
    "executionInfo": {
     "elapsed": 35,
     "status": "ok",
     "timestamp": 1628163569100,
     "user": {
      "displayName": "Mohamed Elshenawy",
      "photoUrl": "https://lh3.googleusercontent.com/a-/AOh14Gg-_16SSTy9EPWmB3f0cYt_TxIsKZJJFSiTpwDUqg=s64",
      "userId": "16996623712493809999"
     },
     "user_tz": -120
    },
    "id": "ZnqxSAOMDax9",
    "outputId": "b81be3ad-84c2-41db-dc41-aeff6ac86170"
   },
   "outputs": [
    {
     "data": {
      "text/plain": [
       "PassengerId    0\n",
       "Survived       0\n",
       "Pclass         0\n",
       "Name           0\n",
       "Sex            0\n",
       "Age            0\n",
       "SibSp          0\n",
       "Parch          0\n",
       "Ticket         0\n",
       "Fare           0\n",
       "Embarked       0\n",
       "dtype: int64"
      ]
     },
     "execution_count": 21,
     "metadata": {
      "tags": []
     },
     "output_type": "execute_result"
    }
   ],
   "source": [
    "titanic.isnull().sum()"
   ]
  },
  {
   "cell_type": "code",
   "execution_count": 22,
   "metadata": {
    "colab": {
     "base_uri": "https://localhost:8080/",
     "height": 202
    },
    "executionInfo": {
     "elapsed": 653,
     "status": "ok",
     "timestamp": 1628163569722,
     "user": {
      "displayName": "Mohamed Elshenawy",
      "photoUrl": "https://lh3.googleusercontent.com/a-/AOh14Gg-_16SSTy9EPWmB3f0cYt_TxIsKZJJFSiTpwDUqg=s64",
      "userId": "16996623712493809999"
     },
     "user_tz": -120
    },
    "id": "QKiBaNhODj7u",
    "outputId": "cbae1ad1-23d2-46e8-d652-e7c8c7651d9a"
   },
   "outputs": [
    {
     "data": {
      "text/html": [
       "<div>\n",
       "<style scoped>\n",
       "    .dataframe tbody tr th:only-of-type {\n",
       "        vertical-align: middle;\n",
       "    }\n",
       "\n",
       "    .dataframe tbody tr th {\n",
       "        vertical-align: top;\n",
       "    }\n",
       "\n",
       "    .dataframe thead th {\n",
       "        text-align: right;\n",
       "    }\n",
       "</style>\n",
       "<table border=\"1\" class=\"dataframe\">\n",
       "  <thead>\n",
       "    <tr style=\"text-align: right;\">\n",
       "      <th></th>\n",
       "      <th>PassengerId</th>\n",
       "      <th>Survived</th>\n",
       "      <th>Pclass</th>\n",
       "      <th>Name</th>\n",
       "      <th>Sex</th>\n",
       "      <th>Age</th>\n",
       "      <th>SibSp</th>\n",
       "      <th>Parch</th>\n",
       "      <th>Ticket</th>\n",
       "      <th>Fare</th>\n",
       "      <th>Embarked</th>\n",
       "    </tr>\n",
       "  </thead>\n",
       "  <tbody>\n",
       "    <tr>\n",
       "      <th>0</th>\n",
       "      <td>1</td>\n",
       "      <td>0</td>\n",
       "      <td>3</td>\n",
       "      <td>Braund, Mr. Owen Harris</td>\n",
       "      <td>male</td>\n",
       "      <td>22.0</td>\n",
       "      <td>1</td>\n",
       "      <td>0</td>\n",
       "      <td>A/5 21171</td>\n",
       "      <td>7.2500</td>\n",
       "      <td>S</td>\n",
       "    </tr>\n",
       "    <tr>\n",
       "      <th>1</th>\n",
       "      <td>2</td>\n",
       "      <td>1</td>\n",
       "      <td>1</td>\n",
       "      <td>Cumings, Mrs. John Bradley (Florence Briggs Th...</td>\n",
       "      <td>female</td>\n",
       "      <td>38.0</td>\n",
       "      <td>1</td>\n",
       "      <td>0</td>\n",
       "      <td>PC 17599</td>\n",
       "      <td>71.2833</td>\n",
       "      <td>C</td>\n",
       "    </tr>\n",
       "    <tr>\n",
       "      <th>2</th>\n",
       "      <td>3</td>\n",
       "      <td>1</td>\n",
       "      <td>3</td>\n",
       "      <td>Heikkinen, Miss. Laina</td>\n",
       "      <td>female</td>\n",
       "      <td>26.0</td>\n",
       "      <td>0</td>\n",
       "      <td>0</td>\n",
       "      <td>STON/O2. 3101282</td>\n",
       "      <td>7.9250</td>\n",
       "      <td>S</td>\n",
       "    </tr>\n",
       "    <tr>\n",
       "      <th>3</th>\n",
       "      <td>4</td>\n",
       "      <td>1</td>\n",
       "      <td>1</td>\n",
       "      <td>Futrelle, Mrs. Jacques Heath (Lily May Peel)</td>\n",
       "      <td>female</td>\n",
       "      <td>35.0</td>\n",
       "      <td>1</td>\n",
       "      <td>0</td>\n",
       "      <td>113803</td>\n",
       "      <td>53.1000</td>\n",
       "      <td>S</td>\n",
       "    </tr>\n",
       "    <tr>\n",
       "      <th>4</th>\n",
       "      <td>5</td>\n",
       "      <td>0</td>\n",
       "      <td>3</td>\n",
       "      <td>Allen, Mr. William Henry</td>\n",
       "      <td>male</td>\n",
       "      <td>35.0</td>\n",
       "      <td>0</td>\n",
       "      <td>0</td>\n",
       "      <td>373450</td>\n",
       "      <td>8.0500</td>\n",
       "      <td>S</td>\n",
       "    </tr>\n",
       "  </tbody>\n",
       "</table>\n",
       "</div>"
      ],
      "text/plain": [
       "   PassengerId  Survived  Pclass  ...            Ticket     Fare  Embarked\n",
       "0            1         0       3  ...         A/5 21171   7.2500         S\n",
       "1            2         1       1  ...          PC 17599  71.2833         C\n",
       "2            3         1       3  ...  STON/O2. 3101282   7.9250         S\n",
       "3            4         1       1  ...            113803  53.1000         S\n",
       "4            5         0       3  ...            373450   8.0500         S\n",
       "\n",
       "[5 rows x 11 columns]"
      ]
     },
     "execution_count": 22,
     "metadata": {
      "tags": []
     },
     "output_type": "execute_result"
    }
   ],
   "source": [
    "titanic.head()"
   ]
  },
  {
   "cell_type": "code",
   "execution_count": 23,
   "metadata": {
    "executionInfo": {
     "elapsed": 45,
     "status": "ok",
     "timestamp": 1628163569733,
     "user": {
      "displayName": "Mohamed Elshenawy",
      "photoUrl": "https://lh3.googleusercontent.com/a-/AOh14Gg-_16SSTy9EPWmB3f0cYt_TxIsKZJJFSiTpwDUqg=s64",
      "userId": "16996623712493809999"
     },
     "user_tz": -120
    },
    "id": "TtNL86JkEBp1"
   },
   "outputs": [],
   "source": [
    "titanic.drop(['PassengerId', 'Name','Ticket','Fare'],inplace=True,axis=1)"
   ]
  },
  {
   "cell_type": "code",
   "execution_count": 24,
   "metadata": {
    "colab": {
     "base_uri": "https://localhost:8080/",
     "height": 202
    },
    "executionInfo": {
     "elapsed": 45,
     "status": "ok",
     "timestamp": 1628163569734,
     "user": {
      "displayName": "Mohamed Elshenawy",
      "photoUrl": "https://lh3.googleusercontent.com/a-/AOh14Gg-_16SSTy9EPWmB3f0cYt_TxIsKZJJFSiTpwDUqg=s64",
      "userId": "16996623712493809999"
     },
     "user_tz": -120
    },
    "id": "3XkqtDrNELGb",
    "outputId": "6c44c2c1-5a86-409d-e250-27af0298de9c"
   },
   "outputs": [
    {
     "data": {
      "text/html": [
       "<div>\n",
       "<style scoped>\n",
       "    .dataframe tbody tr th:only-of-type {\n",
       "        vertical-align: middle;\n",
       "    }\n",
       "\n",
       "    .dataframe tbody tr th {\n",
       "        vertical-align: top;\n",
       "    }\n",
       "\n",
       "    .dataframe thead th {\n",
       "        text-align: right;\n",
       "    }\n",
       "</style>\n",
       "<table border=\"1\" class=\"dataframe\">\n",
       "  <thead>\n",
       "    <tr style=\"text-align: right;\">\n",
       "      <th></th>\n",
       "      <th>Survived</th>\n",
       "      <th>Pclass</th>\n",
       "      <th>Sex</th>\n",
       "      <th>Age</th>\n",
       "      <th>SibSp</th>\n",
       "      <th>Parch</th>\n",
       "      <th>Embarked</th>\n",
       "    </tr>\n",
       "  </thead>\n",
       "  <tbody>\n",
       "    <tr>\n",
       "      <th>0</th>\n",
       "      <td>0</td>\n",
       "      <td>3</td>\n",
       "      <td>male</td>\n",
       "      <td>22.0</td>\n",
       "      <td>1</td>\n",
       "      <td>0</td>\n",
       "      <td>S</td>\n",
       "    </tr>\n",
       "    <tr>\n",
       "      <th>1</th>\n",
       "      <td>1</td>\n",
       "      <td>1</td>\n",
       "      <td>female</td>\n",
       "      <td>38.0</td>\n",
       "      <td>1</td>\n",
       "      <td>0</td>\n",
       "      <td>C</td>\n",
       "    </tr>\n",
       "    <tr>\n",
       "      <th>2</th>\n",
       "      <td>1</td>\n",
       "      <td>3</td>\n",
       "      <td>female</td>\n",
       "      <td>26.0</td>\n",
       "      <td>0</td>\n",
       "      <td>0</td>\n",
       "      <td>S</td>\n",
       "    </tr>\n",
       "    <tr>\n",
       "      <th>3</th>\n",
       "      <td>1</td>\n",
       "      <td>1</td>\n",
       "      <td>female</td>\n",
       "      <td>35.0</td>\n",
       "      <td>1</td>\n",
       "      <td>0</td>\n",
       "      <td>S</td>\n",
       "    </tr>\n",
       "    <tr>\n",
       "      <th>4</th>\n",
       "      <td>0</td>\n",
       "      <td>3</td>\n",
       "      <td>male</td>\n",
       "      <td>35.0</td>\n",
       "      <td>0</td>\n",
       "      <td>0</td>\n",
       "      <td>S</td>\n",
       "    </tr>\n",
       "  </tbody>\n",
       "</table>\n",
       "</div>"
      ],
      "text/plain": [
       "   Survived  Pclass     Sex   Age  SibSp  Parch Embarked\n",
       "0         0       3    male  22.0      1      0        S\n",
       "1         1       1  female  38.0      1      0        C\n",
       "2         1       3  female  26.0      0      0        S\n",
       "3         1       1  female  35.0      1      0        S\n",
       "4         0       3    male  35.0      0      0        S"
      ]
     },
     "execution_count": 24,
     "metadata": {
      "tags": []
     },
     "output_type": "execute_result"
    }
   ],
   "source": [
    "titanic.head()"
   ]
  },
  {
   "cell_type": "code",
   "execution_count": 25,
   "metadata": {
    "colab": {
     "base_uri": "https://localhost:8080/",
     "height": 202
    },
    "executionInfo": {
     "elapsed": 47,
     "status": "ok",
     "timestamp": 1628163569737,
     "user": {
      "displayName": "Mohamed Elshenawy",
      "photoUrl": "https://lh3.googleusercontent.com/a-/AOh14Gg-_16SSTy9EPWmB3f0cYt_TxIsKZJJFSiTpwDUqg=s64",
      "userId": "16996623712493809999"
     },
     "user_tz": -120
    },
    "id": "FIOySyvREeFF",
    "outputId": "e84cd025-e7e0-47f4-b276-be685691af21"
   },
   "outputs": [
    {
     "data": {
      "text/html": [
       "<div>\n",
       "<style scoped>\n",
       "    .dataframe tbody tr th:only-of-type {\n",
       "        vertical-align: middle;\n",
       "    }\n",
       "\n",
       "    .dataframe tbody tr th {\n",
       "        vertical-align: top;\n",
       "    }\n",
       "\n",
       "    .dataframe thead th {\n",
       "        text-align: right;\n",
       "    }\n",
       "</style>\n",
       "<table border=\"1\" class=\"dataframe\">\n",
       "  <thead>\n",
       "    <tr style=\"text-align: right;\">\n",
       "      <th></th>\n",
       "      <th>Survived</th>\n",
       "      <th>Pclass</th>\n",
       "      <th>Age</th>\n",
       "      <th>SibSp</th>\n",
       "      <th>Parch</th>\n",
       "      <th>Embarked_C</th>\n",
       "      <th>Embarked_Q</th>\n",
       "      <th>Embarked_S</th>\n",
       "      <th>Sex_female</th>\n",
       "      <th>Sex_male</th>\n",
       "    </tr>\n",
       "  </thead>\n",
       "  <tbody>\n",
       "    <tr>\n",
       "      <th>0</th>\n",
       "      <td>0</td>\n",
       "      <td>3</td>\n",
       "      <td>22.0</td>\n",
       "      <td>1</td>\n",
       "      <td>0</td>\n",
       "      <td>0</td>\n",
       "      <td>0</td>\n",
       "      <td>1</td>\n",
       "      <td>0</td>\n",
       "      <td>1</td>\n",
       "    </tr>\n",
       "    <tr>\n",
       "      <th>1</th>\n",
       "      <td>1</td>\n",
       "      <td>1</td>\n",
       "      <td>38.0</td>\n",
       "      <td>1</td>\n",
       "      <td>0</td>\n",
       "      <td>1</td>\n",
       "      <td>0</td>\n",
       "      <td>0</td>\n",
       "      <td>1</td>\n",
       "      <td>0</td>\n",
       "    </tr>\n",
       "    <tr>\n",
       "      <th>2</th>\n",
       "      <td>1</td>\n",
       "      <td>3</td>\n",
       "      <td>26.0</td>\n",
       "      <td>0</td>\n",
       "      <td>0</td>\n",
       "      <td>0</td>\n",
       "      <td>0</td>\n",
       "      <td>1</td>\n",
       "      <td>1</td>\n",
       "      <td>0</td>\n",
       "    </tr>\n",
       "    <tr>\n",
       "      <th>3</th>\n",
       "      <td>1</td>\n",
       "      <td>1</td>\n",
       "      <td>35.0</td>\n",
       "      <td>1</td>\n",
       "      <td>0</td>\n",
       "      <td>0</td>\n",
       "      <td>0</td>\n",
       "      <td>1</td>\n",
       "      <td>1</td>\n",
       "      <td>0</td>\n",
       "    </tr>\n",
       "    <tr>\n",
       "      <th>4</th>\n",
       "      <td>0</td>\n",
       "      <td>3</td>\n",
       "      <td>35.0</td>\n",
       "      <td>0</td>\n",
       "      <td>0</td>\n",
       "      <td>0</td>\n",
       "      <td>0</td>\n",
       "      <td>1</td>\n",
       "      <td>0</td>\n",
       "      <td>1</td>\n",
       "    </tr>\n",
       "  </tbody>\n",
       "</table>\n",
       "</div>"
      ],
      "text/plain": [
       "   Survived  Pclass   Age  SibSp  ...  Embarked_Q  Embarked_S  Sex_female  Sex_male\n",
       "0         0       3  22.0      1  ...           0           1           0         1\n",
       "1         1       1  38.0      1  ...           0           0           1         0\n",
       "2         1       3  26.0      0  ...           0           1           1         0\n",
       "3         1       1  35.0      1  ...           0           1           1         0\n",
       "4         0       3  35.0      0  ...           0           1           0         1\n",
       "\n",
       "[5 rows x 10 columns]"
      ]
     },
     "execution_count": 25,
     "metadata": {
      "tags": []
     },
     "output_type": "execute_result"
    }
   ],
   "source": [
    "titanic=pd.get_dummies(titanic, columns=[\"Embarked\", \"Sex\"])\n",
    "titanic.head()"
   ]
  },
  {
   "cell_type": "code",
   "execution_count": 26,
   "metadata": {
    "colab": {
     "base_uri": "https://localhost:8080/"
    },
    "executionInfo": {
     "elapsed": 49,
     "status": "ok",
     "timestamp": 1628163569741,
     "user": {
      "displayName": "Mohamed Elshenawy",
      "photoUrl": "https://lh3.googleusercontent.com/a-/AOh14Gg-_16SSTy9EPWmB3f0cYt_TxIsKZJJFSiTpwDUqg=s64",
      "userId": "16996623712493809999"
     },
     "user_tz": -120
    },
    "id": "zEWkdmsWEpcN",
    "outputId": "94f40383-c128-4da2-bfa8-9b08d0c52019"
   },
   "outputs": [
    {
     "data": {
      "text/plain": [
       "Survived      1.000000\n",
       "Pclass       -0.338481\n",
       "Age          -0.047255\n",
       "SibSp        -0.035322\n",
       "Parch         0.081629\n",
       "Embarked_C    0.168240\n",
       "Embarked_Q    0.003650\n",
       "Embarked_S   -0.149683\n",
       "Sex_female    0.543351\n",
       "Sex_male     -0.543351\n",
       "Name: Survived, dtype: float64"
      ]
     },
     "execution_count": 26,
     "metadata": {
      "tags": []
     },
     "output_type": "execute_result"
    }
   ],
   "source": [
    "titanic.corr()['Survived']"
   ]
  },
  {
   "cell_type": "code",
   "execution_count": 27,
   "metadata": {
    "executionInfo": {
     "elapsed": 47,
     "status": "ok",
     "timestamp": 1628163569742,
     "user": {
      "displayName": "Mohamed Elshenawy",
      "photoUrl": "https://lh3.googleusercontent.com/a-/AOh14Gg-_16SSTy9EPWmB3f0cYt_TxIsKZJJFSiTpwDUqg=s64",
      "userId": "16996623712493809999"
     },
     "user_tz": -120
    },
    "id": "kK-VvZ6XFYCa"
   },
   "outputs": [],
   "source": [
    "X = titanic.drop('Survived',axis=1)\n",
    "y = titanic['Survived']\n",
    "X_train, X_test, y_train, y_test = train_test_split(X, y, test_size = 0.3, random_state = 101)"
   ]
  },
  {
   "cell_type": "code",
   "execution_count": 28,
   "metadata": {
    "colab": {
     "base_uri": "https://localhost:8080/"
    },
    "executionInfo": {
     "elapsed": 48,
     "status": "ok",
     "timestamp": 1628163569744,
     "user": {
      "displayName": "Mohamed Elshenawy",
      "photoUrl": "https://lh3.googleusercontent.com/a-/AOh14Gg-_16SSTy9EPWmB3f0cYt_TxIsKZJJFSiTpwDUqg=s64",
      "userId": "16996623712493809999"
     },
     "user_tz": -120
    },
    "id": "ib_XNjsAFwgw",
    "outputId": "a421c423-1d2d-441a-ad76-8b5fc30a95a9"
   },
   "outputs": [
    {
     "name": "stdout",
     "output_type": "stream",
     "text": [
      "0.8138041733547352\n",
      "0.7910447761194029\n"
     ]
    }
   ],
   "source": [
    "model = LogisticRegression(max_iter= 300)\n",
    "model.fit(X_train,y_train)\n",
    "train_predictions = model.predict(X_train)\n",
    "test_predictions = model.predict(X_test)\n",
    "\n",
    "print(accuracy_score(y_train, train_predictions))\n",
    "print(accuracy_score(y_test, test_predictions))"
   ]
  },
  {
   "cell_type": "code",
   "execution_count": 32,
   "metadata": {
    "colab": {
     "base_uri": "https://localhost:8080/"
    },
    "executionInfo": {
     "elapsed": 381,
     "status": "ok",
     "timestamp": 1628163665601,
     "user": {
      "displayName": "Mohamed Elshenawy",
      "photoUrl": "https://lh3.googleusercontent.com/a-/AOh14Gg-_16SSTy9EPWmB3f0cYt_TxIsKZJJFSiTpwDUqg=s64",
      "userId": "16996623712493809999"
     },
     "user_tz": -120
    },
    "id": "zvCHiaZ_HPcm",
    "outputId": "1c1af8e5-db63-480d-a3b0-2f5e8d94ba87"
   },
   "outputs": [
    {
     "data": {
      "text/plain": [
       "array([[135,  19],\n",
       "       [ 37,  77]])"
      ]
     },
     "execution_count": 32,
     "metadata": {
      "tags": []
     },
     "output_type": "execute_result"
    }
   ],
   "source": [
    "confusion_matrix(y_test, test_predictions)"
   ]
  },
  {
   "cell_type": "code",
   "execution_count": 34,
   "metadata": {
    "colab": {
     "base_uri": "https://localhost:8080/"
    },
    "executionInfo": {
     "elapsed": 435,
     "status": "ok",
     "timestamp": 1628163730866,
     "user": {
      "displayName": "Mohamed Elshenawy",
      "photoUrl": "https://lh3.googleusercontent.com/a-/AOh14Gg-_16SSTy9EPWmB3f0cYt_TxIsKZJJFSiTpwDUqg=s64",
      "userId": "16996623712493809999"
     },
     "user_tz": -120
    },
    "id": "rsxXP5ycHruX",
    "outputId": "84a2a1a8-dcdc-4daf-9dbd-c210213c5a5d"
   },
   "outputs": [
    {
     "data": {
      "text/plain": [
       "0.8020833333333334"
      ]
     },
     "execution_count": 34,
     "metadata": {
      "tags": []
     },
     "output_type": "execute_result"
    }
   ],
   "source": [
    "precision_score(y_test, test_predictions)"
   ]
  },
  {
   "cell_type": "code",
   "execution_count": 35,
   "metadata": {
    "colab": {
     "base_uri": "https://localhost:8080/"
    },
    "executionInfo": {
     "elapsed": 379,
     "status": "ok",
     "timestamp": 1628163751892,
     "user": {
      "displayName": "Mohamed Elshenawy",
      "photoUrl": "https://lh3.googleusercontent.com/a-/AOh14Gg-_16SSTy9EPWmB3f0cYt_TxIsKZJJFSiTpwDUqg=s64",
      "userId": "16996623712493809999"
     },
     "user_tz": -120
    },
    "id": "Lpl6jhApHxyb",
    "outputId": "2dbd1a03-a6a1-4756-b3d4-2ba5129eee93"
   },
   "outputs": [
    {
     "data": {
      "text/plain": [
       "0.6754385964912281"
      ]
     },
     "execution_count": 35,
     "metadata": {
      "tags": []
     },
     "output_type": "execute_result"
    }
   ],
   "source": [
    "recall_score(y_test, test_predictions)"
   ]
  },
  {
   "cell_type": "code",
   "execution_count": 37,
   "metadata": {
    "colab": {
     "base_uri": "https://localhost:8080/"
    },
    "executionInfo": {
     "elapsed": 390,
     "status": "ok",
     "timestamp": 1628163776680,
     "user": {
      "displayName": "Mohamed Elshenawy",
      "photoUrl": "https://lh3.googleusercontent.com/a-/AOh14Gg-_16SSTy9EPWmB3f0cYt_TxIsKZJJFSiTpwDUqg=s64",
      "userId": "16996623712493809999"
     },
     "user_tz": -120
    },
    "id": "_SAk2-oUH35_",
    "outputId": "df2d67f9-43c9-4e71-fed8-38eda715ff47"
   },
   "outputs": [
    {
     "data": {
      "text/plain": [
       "0.7333333333333333"
      ]
     },
     "execution_count": 37,
     "metadata": {
      "tags": []
     },
     "output_type": "execute_result"
    }
   ],
   "source": [
    "f1_score(y_test, test_predictions)"
   ]
  },
  {
   "cell_type": "code",
   "execution_count": 44,
   "metadata": {
    "colab": {
     "base_uri": "https://localhost:8080/",
     "height": 451
    },
    "executionInfo": {
     "elapsed": 487,
     "status": "ok",
     "timestamp": 1628164013202,
     "user": {
      "displayName": "Mohamed Elshenawy",
      "photoUrl": "https://lh3.googleusercontent.com/a-/AOh14Gg-_16SSTy9EPWmB3f0cYt_TxIsKZJJFSiTpwDUqg=s64",
      "userId": "16996623712493809999"
     },
     "user_tz": -120
    },
    "id": "-_Gn6WZhIG7R",
    "outputId": "89edcdfe-9adb-41a9-fb6d-05a316963c6c"
   },
   "outputs": [
    {
     "data": {
      "image/png": "[encoded data removed]",
      "text/plain": [
       "<Figure size 1008x504 with 1 Axes>"
      ]
     },
     "metadata": {
      "needs_background": "light",
      "tags": []
     },
     "output_type": "display_data"
    }
   ],
   "source": [
    "logreg_prob= model.predict_proba(X_test)[:,1]\n",
    "false_positive_rate, true_positive_rate, thresholds = roc_curve(y_test, logreg_prob)\n",
    "def plot_roc_curve(false_positive_rate, true_positive_rate):\n",
    "    plt.plot(false_positive_rate, true_positive_rate, linewidth=2)\n",
    "    plt.axis([0, 1, 0, 1])\n",
    "    plt.xlabel('False Positive Rate (FPR)', fontsize=16)\n",
    "    plt.ylabel('True Positive Rate (TPR)', fontsize=16)\n",
    "plt.figure(figsize=(14, 7))\n",
    "plt.plot([0, 1], [0, 1], 'r', linewidth=4)\n",
    "\n",
    "plot_roc_curve(false_positive_rate, true_positive_rate)"
   ]
  },
  {
   "cell_type": "code",
   "execution_count": 45,
   "metadata": {
    "colab": {
     "base_uri": "https://localhost:8080/"
    },
    "executionInfo": {
     "elapsed": 404,
     "status": "ok",
     "timestamp": 1628164048763,
     "user": {
      "displayName": "Mohamed Elshenawy",
      "photoUrl": "https://lh3.googleusercontent.com/a-/AOh14Gg-_16SSTy9EPWmB3f0cYt_TxIsKZJJFSiTpwDUqg=s64",
      "userId": "16996623712493809999"
     },
     "user_tz": -120
    },
    "id": "X5WoI2lfI7Oh",
    "outputId": "2c57ce95-847d-48df-b6b9-36f5f1350629"
   },
   "outputs": [
    {
     "name": "stdout",
     "output_type": "stream",
     "text": [
      "ROC-AUC-Score: 0.8558327637275006\n"
     ]
    }
   ],
   "source": [
    "r_a_score = roc_auc_score(y_test, logreg_prob)\n",
    "print(\"ROC-AUC-Score:\", r_a_score)"
   ]
  }
 ],
 "metadata": {
  "colab": {
   "authorship_tag": "ABX9TyOyVULG68Q77rrd6WhE/Wfv",
   "name": "Session6.ipynb",
   "provenance": []
  },
  "kernelspec": {
   "display_name": "Python 3",
   "language": "python",
   "name": "python3"
  },
  "language_info": {
   "codemirror_mode": {
    "name": "ipython",
    "version": 3
   },
   "file_extension": ".py",
   "mimetype": "text/x-python",
   "name": "python",
   "nbconvert_exporter": "python",
   "pygments_lexer": "ipython3",
   "version": "3.8.5"
  }
 },
 "nbformat": 4,
 "nbformat_minor": 1
}
