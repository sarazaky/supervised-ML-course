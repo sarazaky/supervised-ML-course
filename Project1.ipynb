{
 "cells": [
  {
   "cell_type": "code",
   "execution_count": 1,
   "metadata": {
    "_cell_guid": "b1076dfc-b9ad-4769-8c92-a6c4dae69d19",
    "_uuid": "8f2839f25d086af736a60e9eeb907d3b93b6e0e5",
    "execution": {
     "iopub.execute_input": "2021-08-30T13:05:38.011975Z",
     "iopub.status.busy": "2021-08-30T13:05:38.010730Z",
     "iopub.status.idle": "2021-08-30T13:05:39.379079Z",
     "shell.execute_reply": "2021-08-30T13:05:39.379710Z",
     "shell.execute_reply.started": "2021-08-30T12:56:29.004778Z"
    },
    "papermill": {
     "duration": 1.406744,
     "end_time": "2021-08-30T13:05:39.380038",
     "exception": false,
     "start_time": "2021-08-30T13:05:37.973294",
     "status": "completed"
    },
    "tags": []
   },
   "outputs": [
    {
     "name": "stdout",
     "output_type": "stream",
     "text": [
      "/kaggle/input/bike-sharing-demand/sampleSubmission.csv\n",
      "/kaggle/input/bike-sharing-demand/train.csv\n",
      "/kaggle/input/bike-sharing-demand/test.csv\n"
     ]
    }
   ],
   "source": [
    "# This Python 3 environment comes with many helpful analytics libraries installed\n",
    "# It is defined by the kaggle/python Docker image: https://github.com/kaggle/docker-python\n",
    "# For example, here's several helpful packages to load\n",
    "\n",
    "import numpy as np # linear algebra\n",
    "import pandas as pd # data processing, CSV file I/O (e.g. pd.read_csv)\n",
    "import matplotlib.pyplot as plt\n",
    "import seaborn as sns\n",
    "\n",
    "# Input data files are available in the read-only \"../input/\" directory\n",
    "# For example, running this (by clicking run or pressing Shift+Enter) will list all files under the input directory\n",
    "\n",
    "import os\n",
    "for dirname, _, filenames in os.walk('/kaggle/input'):\n",
    "    for filename in filenames:\n",
    "        print(os.path.join(dirname, filename))\n",
    "\n",
    "# You can write up to 20GB to the current directory (/kaggle/working/) that gets preserved as output when you create a version using \"Save & Run All\" \n",
    "# You can also write temporary files to /kaggle/temp/, but they won't be saved outside of the current session"
   ]
  },
  {
   "cell_type": "markdown",
   "metadata": {
    "papermill": {
     "duration": 0.033015,
     "end_time": "2021-08-30T13:05:39.447136",
     "exception": false,
     "start_time": "2021-08-30T13:05:39.414121",
     "status": "completed"
    },
    "tags": []
   },
   "source": [
    "**reading the datasets**"
   ]
  },
  {
   "cell_type": "code",
   "execution_count": 2,
   "metadata": {
    "execution": {
     "iopub.execute_input": "2021-08-30T13:05:39.519676Z",
     "iopub.status.busy": "2021-08-30T13:05:39.518980Z",
     "iopub.status.idle": "2021-08-30T13:05:39.584519Z",
     "shell.execute_reply": "2021-08-30T13:05:39.583868Z",
     "shell.execute_reply.started": "2021-08-30T12:56:29.018411Z"
    },
    "papermill": {
     "duration": 0.104166,
     "end_time": "2021-08-30T13:05:39.584683",
     "exception": false,
     "start_time": "2021-08-30T13:05:39.480517",
     "status": "completed"
    },
    "tags": []
   },
   "outputs": [],
   "source": [
    "train_df=pd.read_csv('../input/bike-sharing-demand/train.csv')\n",
    "test_df=pd.read_csv('../input/bike-sharing-demand/test.csv')"
   ]
  },
  {
   "cell_type": "code",
   "execution_count": 3,
   "metadata": {
    "execution": {
     "iopub.execute_input": "2021-08-30T13:05:39.659305Z",
     "iopub.status.busy": "2021-08-30T13:05:39.658470Z",
     "iopub.status.idle": "2021-08-30T13:05:39.662237Z",
     "shell.execute_reply": "2021-08-30T13:05:39.662818Z",
     "shell.execute_reply.started": "2021-08-30T12:56:29.075105Z"
    },
    "papermill": {
     "duration": 0.045248,
     "end_time": "2021-08-30T13:05:39.662987",
     "exception": false,
     "start_time": "2021-08-30T13:05:39.617739",
     "status": "completed"
    },
    "tags": []
   },
   "outputs": [
    {
     "data": {
      "text/plain": [
       "(10886, 12)"
      ]
     },
     "execution_count": 3,
     "metadata": {},
     "output_type": "execute_result"
    }
   ],
   "source": [
    "train_df.shape"
   ]
  },
  {
   "cell_type": "code",
   "execution_count": 4,
   "metadata": {
    "execution": {
     "iopub.execute_input": "2021-08-30T13:05:39.736861Z",
     "iopub.status.busy": "2021-08-30T13:05:39.735886Z",
     "iopub.status.idle": "2021-08-30T13:05:39.741203Z",
     "shell.execute_reply": "2021-08-30T13:05:39.741651Z",
     "shell.execute_reply.started": "2021-08-30T12:56:29.083485Z"
    },
    "papermill": {
     "duration": 0.043074,
     "end_time": "2021-08-30T13:05:39.741820",
     "exception": false,
     "start_time": "2021-08-30T13:05:39.698746",
     "status": "completed"
    },
    "tags": []
   },
   "outputs": [
    {
     "data": {
      "text/plain": [
       "(6493, 9)"
      ]
     },
     "execution_count": 4,
     "metadata": {},
     "output_type": "execute_result"
    }
   ],
   "source": [
    "test_df.shape"
   ]
  },
  {
   "cell_type": "code",
   "execution_count": 5,
   "metadata": {
    "execution": {
     "iopub.execute_input": "2021-08-30T13:05:39.815579Z",
     "iopub.status.busy": "2021-08-30T13:05:39.814546Z",
     "iopub.status.idle": "2021-08-30T13:05:39.822054Z",
     "shell.execute_reply": "2021-08-30T13:05:39.822845Z",
     "shell.execute_reply.started": "2021-08-30T12:56:29.097482Z"
    },
    "papermill": {
     "duration": 0.04547,
     "end_time": "2021-08-30T13:05:39.823086",
     "exception": false,
     "start_time": "2021-08-30T13:05:39.777616",
     "status": "completed"
    },
    "tags": []
   },
   "outputs": [
    {
     "name": "stdout",
     "output_type": "stream",
     "text": [
      "Index(['datetime', 'season', 'holiday', 'workingday', 'weather', 'temp',\n",
      "       'atemp', 'humidity', 'windspeed', 'casual', 'registered', 'count'],\n",
      "      dtype='object')\n",
      "Index(['datetime', 'season', 'holiday', 'workingday', 'weather', 'temp',\n",
      "       'atemp', 'humidity', 'windspeed'],\n",
      "      dtype='object')\n"
     ]
    }
   ],
   "source": [
    "#there's features in the training set that doesn't exist in the test set so we will remove it \n",
    "print(train_df.columns)\n",
    "print(test_df.columns)"
   ]
  },
  {
   "cell_type": "code",
   "execution_count": 6,
   "metadata": {
    "execution": {
     "iopub.execute_input": "2021-08-30T13:05:39.896886Z",
     "iopub.status.busy": "2021-08-30T13:05:39.895862Z",
     "iopub.status.idle": "2021-08-30T13:05:39.913237Z",
     "shell.execute_reply": "2021-08-30T13:05:39.912694Z",
     "shell.execute_reply.started": "2021-08-30T12:56:29.109897Z"
    },
    "papermill": {
     "duration": 0.054875,
     "end_time": "2021-08-30T13:05:39.913389",
     "exception": false,
     "start_time": "2021-08-30T13:05:39.858514",
     "status": "completed"
    },
    "tags": []
   },
   "outputs": [],
   "source": [
    "train_df.drop(columns=['casual','registered'],inplace=True)"
   ]
  },
  {
   "cell_type": "markdown",
   "metadata": {
    "papermill": {
     "duration": 0.034957,
     "end_time": "2021-08-30T13:05:39.985274",
     "exception": false,
     "start_time": "2021-08-30T13:05:39.950317",
     "status": "completed"
    },
    "tags": []
   },
   "source": [
    "# **EDA**"
   ]
  },
  {
   "cell_type": "code",
   "execution_count": 7,
   "metadata": {
    "execution": {
     "iopub.execute_input": "2021-08-30T13:05:40.066296Z",
     "iopub.status.busy": "2021-08-30T13:05:40.065421Z",
     "iopub.status.idle": "2021-08-30T13:05:40.086449Z",
     "shell.execute_reply": "2021-08-30T13:05:40.086984Z",
     "shell.execute_reply.started": "2021-08-30T12:56:29.123796Z"
    },
    "papermill": {
     "duration": 0.064479,
     "end_time": "2021-08-30T13:05:40.087163",
     "exception": false,
     "start_time": "2021-08-30T13:05:40.022684",
     "status": "completed"
    },
    "tags": []
   },
   "outputs": [
    {
     "data": {
      "text/html": [
       "<div>\n",
       "<style scoped>\n",
       "    .dataframe tbody tr th:only-of-type {\n",
       "        vertical-align: middle;\n",
       "    }\n",
       "\n",
       "    .dataframe tbody tr th {\n",
       "        vertical-align: top;\n",
       "    }\n",
       "\n",
       "    .dataframe thead th {\n",
       "        text-align: right;\n",
       "    }\n",
       "</style>\n",
       "<table border=\"1\" class=\"dataframe\">\n",
       "  <thead>\n",
       "    <tr style=\"text-align: right;\">\n",
       "      <th></th>\n",
       "      <th>datetime</th>\n",
       "      <th>season</th>\n",
       "      <th>holiday</th>\n",
       "      <th>workingday</th>\n",
       "      <th>weather</th>\n",
       "      <th>temp</th>\n",
       "      <th>atemp</th>\n",
       "      <th>humidity</th>\n",
       "      <th>windspeed</th>\n",
       "      <th>count</th>\n",
       "    </tr>\n",
       "  </thead>\n",
       "  <tbody>\n",
       "    <tr>\n",
       "      <th>0</th>\n",
       "      <td>2011-01-01 00:00:00</td>\n",
       "      <td>1</td>\n",
       "      <td>0</td>\n",
       "      <td>0</td>\n",
       "      <td>1</td>\n",
       "      <td>9.84</td>\n",
       "      <td>14.395</td>\n",
       "      <td>81</td>\n",
       "      <td>0.0</td>\n",
       "      <td>16</td>\n",
       "    </tr>\n",
       "    <tr>\n",
       "      <th>1</th>\n",
       "      <td>2011-01-01 01:00:00</td>\n",
       "      <td>1</td>\n",
       "      <td>0</td>\n",
       "      <td>0</td>\n",
       "      <td>1</td>\n",
       "      <td>9.02</td>\n",
       "      <td>13.635</td>\n",
       "      <td>80</td>\n",
       "      <td>0.0</td>\n",
       "      <td>40</td>\n",
       "    </tr>\n",
       "    <tr>\n",
       "      <th>2</th>\n",
       "      <td>2011-01-01 02:00:00</td>\n",
       "      <td>1</td>\n",
       "      <td>0</td>\n",
       "      <td>0</td>\n",
       "      <td>1</td>\n",
       "      <td>9.02</td>\n",
       "      <td>13.635</td>\n",
       "      <td>80</td>\n",
       "      <td>0.0</td>\n",
       "      <td>32</td>\n",
       "    </tr>\n",
       "    <tr>\n",
       "      <th>3</th>\n",
       "      <td>2011-01-01 03:00:00</td>\n",
       "      <td>1</td>\n",
       "      <td>0</td>\n",
       "      <td>0</td>\n",
       "      <td>1</td>\n",
       "      <td>9.84</td>\n",
       "      <td>14.395</td>\n",
       "      <td>75</td>\n",
       "      <td>0.0</td>\n",
       "      <td>13</td>\n",
       "    </tr>\n",
       "    <tr>\n",
       "      <th>4</th>\n",
       "      <td>2011-01-01 04:00:00</td>\n",
       "      <td>1</td>\n",
       "      <td>0</td>\n",
       "      <td>0</td>\n",
       "      <td>1</td>\n",
       "      <td>9.84</td>\n",
       "      <td>14.395</td>\n",
       "      <td>75</td>\n",
       "      <td>0.0</td>\n",
       "      <td>1</td>\n",
       "    </tr>\n",
       "  </tbody>\n",
       "</table>\n",
       "</div>"
      ],
      "text/plain": [
       "              datetime  season  holiday  workingday  weather  temp   atemp  \\\n",
       "0  2011-01-01 00:00:00       1        0           0        1  9.84  14.395   \n",
       "1  2011-01-01 01:00:00       1        0           0        1  9.02  13.635   \n",
       "2  2011-01-01 02:00:00       1        0           0        1  9.02  13.635   \n",
       "3  2011-01-01 03:00:00       1        0           0        1  9.84  14.395   \n",
       "4  2011-01-01 04:00:00       1        0           0        1  9.84  14.395   \n",
       "\n",
       "   humidity  windspeed  count  \n",
       "0        81        0.0     16  \n",
       "1        80        0.0     40  \n",
       "2        80        0.0     32  \n",
       "3        75        0.0     13  \n",
       "4        75        0.0      1  "
      ]
     },
     "execution_count": 7,
     "metadata": {},
     "output_type": "execute_result"
    }
   ],
   "source": [
    "train_df.head()"
   ]
  },
  {
   "cell_type": "code",
   "execution_count": 8,
   "metadata": {
    "execution": {
     "iopub.execute_input": "2021-08-30T13:05:40.163506Z",
     "iopub.status.busy": "2021-08-30T13:05:40.162859Z",
     "iopub.status.idle": "2021-08-30T13:05:40.185900Z",
     "shell.execute_reply": "2021-08-30T13:05:40.185227Z",
     "shell.execute_reply.started": "2021-08-30T12:56:29.149204Z"
    },
    "papermill": {
     "duration": 0.063643,
     "end_time": "2021-08-30T13:05:40.186042",
     "exception": false,
     "start_time": "2021-08-30T13:05:40.122399",
     "status": "completed"
    },
    "tags": []
   },
   "outputs": [
    {
     "name": "stdout",
     "output_type": "stream",
     "text": [
      "<class 'pandas.core.frame.DataFrame'>\n",
      "RangeIndex: 10886 entries, 0 to 10885\n",
      "Data columns (total 10 columns):\n",
      " #   Column      Non-Null Count  Dtype  \n",
      "---  ------      --------------  -----  \n",
      " 0   datetime    10886 non-null  object \n",
      " 1   season      10886 non-null  int64  \n",
      " 2   holiday     10886 non-null  int64  \n",
      " 3   workingday  10886 non-null  int64  \n",
      " 4   weather     10886 non-null  int64  \n",
      " 5   temp        10886 non-null  float64\n",
      " 6   atemp       10886 non-null  float64\n",
      " 7   humidity    10886 non-null  int64  \n",
      " 8   windspeed   10886 non-null  float64\n",
      " 9   count       10886 non-null  int64  \n",
      "dtypes: float64(3), int64(6), object(1)\n",
      "memory usage: 850.6+ KB\n"
     ]
    }
   ],
   "source": [
    "train_df.info()"
   ]
  },
  {
   "cell_type": "code",
   "execution_count": 9,
   "metadata": {
    "execution": {
     "iopub.execute_input": "2021-08-30T13:05:40.268968Z",
     "iopub.status.busy": "2021-08-30T13:05:40.264798Z",
     "iopub.status.idle": "2021-08-30T13:05:40.309961Z",
     "shell.execute_reply": "2021-08-30T13:05:40.309181Z",
     "shell.execute_reply.started": "2021-08-30T12:56:29.176520Z"
    },
    "papermill": {
     "duration": 0.087616,
     "end_time": "2021-08-30T13:05:40.310107",
     "exception": false,
     "start_time": "2021-08-30T13:05:40.222491",
     "status": "completed"
    },
    "tags": []
   },
   "outputs": [
    {
     "data": {
      "text/html": [
       "<div>\n",
       "<style scoped>\n",
       "    .dataframe tbody tr th:only-of-type {\n",
       "        vertical-align: middle;\n",
       "    }\n",
       "\n",
       "    .dataframe tbody tr th {\n",
       "        vertical-align: top;\n",
       "    }\n",
       "\n",
       "    .dataframe thead th {\n",
       "        text-align: right;\n",
       "    }\n",
       "</style>\n",
       "<table border=\"1\" class=\"dataframe\">\n",
       "  <thead>\n",
       "    <tr style=\"text-align: right;\">\n",
       "      <th></th>\n",
       "      <th>season</th>\n",
       "      <th>holiday</th>\n",
       "      <th>workingday</th>\n",
       "      <th>weather</th>\n",
       "      <th>temp</th>\n",
       "      <th>atemp</th>\n",
       "      <th>humidity</th>\n",
       "      <th>windspeed</th>\n",
       "      <th>count</th>\n",
       "    </tr>\n",
       "  </thead>\n",
       "  <tbody>\n",
       "    <tr>\n",
       "      <th>count</th>\n",
       "      <td>10886.000000</td>\n",
       "      <td>10886.000000</td>\n",
       "      <td>10886.000000</td>\n",
       "      <td>10886.000000</td>\n",
       "      <td>10886.00000</td>\n",
       "      <td>10886.000000</td>\n",
       "      <td>10886.000000</td>\n",
       "      <td>10886.000000</td>\n",
       "      <td>10886.000000</td>\n",
       "    </tr>\n",
       "    <tr>\n",
       "      <th>mean</th>\n",
       "      <td>2.506614</td>\n",
       "      <td>0.028569</td>\n",
       "      <td>0.680875</td>\n",
       "      <td>1.418427</td>\n",
       "      <td>20.23086</td>\n",
       "      <td>23.655084</td>\n",
       "      <td>61.886460</td>\n",
       "      <td>12.799395</td>\n",
       "      <td>191.574132</td>\n",
       "    </tr>\n",
       "    <tr>\n",
       "      <th>std</th>\n",
       "      <td>1.116174</td>\n",
       "      <td>0.166599</td>\n",
       "      <td>0.466159</td>\n",
       "      <td>0.633839</td>\n",
       "      <td>7.79159</td>\n",
       "      <td>8.474601</td>\n",
       "      <td>19.245033</td>\n",
       "      <td>8.164537</td>\n",
       "      <td>181.144454</td>\n",
       "    </tr>\n",
       "    <tr>\n",
       "      <th>min</th>\n",
       "      <td>1.000000</td>\n",
       "      <td>0.000000</td>\n",
       "      <td>0.000000</td>\n",
       "      <td>1.000000</td>\n",
       "      <td>0.82000</td>\n",
       "      <td>0.760000</td>\n",
       "      <td>0.000000</td>\n",
       "      <td>0.000000</td>\n",
       "      <td>1.000000</td>\n",
       "    </tr>\n",
       "    <tr>\n",
       "      <th>25%</th>\n",
       "      <td>2.000000</td>\n",
       "      <td>0.000000</td>\n",
       "      <td>0.000000</td>\n",
       "      <td>1.000000</td>\n",
       "      <td>13.94000</td>\n",
       "      <td>16.665000</td>\n",
       "      <td>47.000000</td>\n",
       "      <td>7.001500</td>\n",
       "      <td>42.000000</td>\n",
       "    </tr>\n",
       "    <tr>\n",
       "      <th>50%</th>\n",
       "      <td>3.000000</td>\n",
       "      <td>0.000000</td>\n",
       "      <td>1.000000</td>\n",
       "      <td>1.000000</td>\n",
       "      <td>20.50000</td>\n",
       "      <td>24.240000</td>\n",
       "      <td>62.000000</td>\n",
       "      <td>12.998000</td>\n",
       "      <td>145.000000</td>\n",
       "    </tr>\n",
       "    <tr>\n",
       "      <th>75%</th>\n",
       "      <td>4.000000</td>\n",
       "      <td>0.000000</td>\n",
       "      <td>1.000000</td>\n",
       "      <td>2.000000</td>\n",
       "      <td>26.24000</td>\n",
       "      <td>31.060000</td>\n",
       "      <td>77.000000</td>\n",
       "      <td>16.997900</td>\n",
       "      <td>284.000000</td>\n",
       "    </tr>\n",
       "    <tr>\n",
       "      <th>max</th>\n",
       "      <td>4.000000</td>\n",
       "      <td>1.000000</td>\n",
       "      <td>1.000000</td>\n",
       "      <td>4.000000</td>\n",
       "      <td>41.00000</td>\n",
       "      <td>45.455000</td>\n",
       "      <td>100.000000</td>\n",
       "      <td>56.996900</td>\n",
       "      <td>977.000000</td>\n",
       "    </tr>\n",
       "  </tbody>\n",
       "</table>\n",
       "</div>"
      ],
      "text/plain": [
       "             season       holiday    workingday       weather         temp  \\\n",
       "count  10886.000000  10886.000000  10886.000000  10886.000000  10886.00000   \n",
       "mean       2.506614      0.028569      0.680875      1.418427     20.23086   \n",
       "std        1.116174      0.166599      0.466159      0.633839      7.79159   \n",
       "min        1.000000      0.000000      0.000000      1.000000      0.82000   \n",
       "25%        2.000000      0.000000      0.000000      1.000000     13.94000   \n",
       "50%        3.000000      0.000000      1.000000      1.000000     20.50000   \n",
       "75%        4.000000      0.000000      1.000000      2.000000     26.24000   \n",
       "max        4.000000      1.000000      1.000000      4.000000     41.00000   \n",
       "\n",
       "              atemp      humidity     windspeed         count  \n",
       "count  10886.000000  10886.000000  10886.000000  10886.000000  \n",
       "mean      23.655084     61.886460     12.799395    191.574132  \n",
       "std        8.474601     19.245033      8.164537    181.144454  \n",
       "min        0.760000      0.000000      0.000000      1.000000  \n",
       "25%       16.665000     47.000000      7.001500     42.000000  \n",
       "50%       24.240000     62.000000     12.998000    145.000000  \n",
       "75%       31.060000     77.000000     16.997900    284.000000  \n",
       "max       45.455000    100.000000     56.996900    977.000000  "
      ]
     },
     "execution_count": 9,
     "metadata": {},
     "output_type": "execute_result"
    }
   ],
   "source": [
    "train_df.describe()"
   ]
  },
  {
   "cell_type": "code",
   "execution_count": 10,
   "metadata": {
    "execution": {
     "iopub.execute_input": "2021-08-30T13:05:40.392537Z",
     "iopub.status.busy": "2021-08-30T13:05:40.389231Z",
     "iopub.status.idle": "2021-08-30T13:05:40.396996Z",
     "shell.execute_reply": "2021-08-30T13:05:40.396452Z",
     "shell.execute_reply.started": "2021-08-30T12:56:29.222432Z"
    },
    "papermill": {
     "duration": 0.050693,
     "end_time": "2021-08-30T13:05:40.397141",
     "exception": false,
     "start_time": "2021-08-30T13:05:40.346448",
     "status": "completed"
    },
    "tags": []
   },
   "outputs": [
    {
     "data": {
      "text/plain": [
       "datetime      0\n",
       "season        0\n",
       "holiday       0\n",
       "workingday    0\n",
       "weather       0\n",
       "temp          0\n",
       "atemp         0\n",
       "humidity      0\n",
       "windspeed     0\n",
       "count         0\n",
       "dtype: int64"
      ]
     },
     "execution_count": 10,
     "metadata": {},
     "output_type": "execute_result"
    }
   ],
   "source": [
    "#checking for nulls\n",
    "train_df.isnull().sum() "
   ]
  },
  {
   "cell_type": "code",
   "execution_count": 11,
   "metadata": {
    "execution": {
     "iopub.execute_input": "2021-08-30T13:05:40.478089Z",
     "iopub.status.busy": "2021-08-30T13:05:40.477417Z",
     "iopub.status.idle": "2021-08-30T13:05:40.480394Z",
     "shell.execute_reply": "2021-08-30T13:05:40.480931Z",
     "shell.execute_reply.started": "2021-08-30T12:56:29.237394Z"
    },
    "papermill": {
     "duration": 0.047907,
     "end_time": "2021-08-30T13:05:40.481106",
     "exception": false,
     "start_time": "2021-08-30T13:05:40.433199",
     "status": "completed"
    },
    "tags": []
   },
   "outputs": [
    {
     "data": {
      "text/plain": [
       "datetime      0\n",
       "season        0\n",
       "holiday       0\n",
       "workingday    0\n",
       "weather       0\n",
       "temp          0\n",
       "atemp         0\n",
       "humidity      0\n",
       "windspeed     0\n",
       "dtype: int64"
      ]
     },
     "execution_count": 11,
     "metadata": {},
     "output_type": "execute_result"
    }
   ],
   "source": [
    "test_df.isnull().sum() "
   ]
  },
  {
   "cell_type": "code",
   "execution_count": 12,
   "metadata": {
    "execution": {
     "iopub.execute_input": "2021-08-30T13:05:40.558168Z",
     "iopub.status.busy": "2021-08-30T13:05:40.557515Z",
     "iopub.status.idle": "2021-08-30T13:05:40.570797Z",
     "shell.execute_reply": "2021-08-30T13:05:40.571337Z",
     "shell.execute_reply.started": "2021-08-30T12:56:29.254974Z"
    },
    "papermill": {
     "duration": 0.0536,
     "end_time": "2021-08-30T13:05:40.571501",
     "exception": false,
     "start_time": "2021-08-30T13:05:40.517901",
     "status": "completed"
    },
    "tags": []
   },
   "outputs": [
    {
     "data": {
      "text/plain": [
       "0"
      ]
     },
     "execution_count": 12,
     "metadata": {},
     "output_type": "execute_result"
    }
   ],
   "source": [
    "#checking for duplicates\n",
    "train_df.duplicated().sum()"
   ]
  },
  {
   "cell_type": "code",
   "execution_count": 13,
   "metadata": {
    "execution": {
     "iopub.execute_input": "2021-08-30T13:05:40.648095Z",
     "iopub.status.busy": "2021-08-30T13:05:40.647436Z",
     "iopub.status.idle": "2021-08-30T13:05:40.658022Z",
     "shell.execute_reply": "2021-08-30T13:05:40.658542Z",
     "shell.execute_reply.started": "2021-08-30T12:56:29.269099Z"
    },
    "papermill": {
     "duration": 0.050802,
     "end_time": "2021-08-30T13:05:40.658737",
     "exception": false,
     "start_time": "2021-08-30T13:05:40.607935",
     "status": "completed"
    },
    "tags": []
   },
   "outputs": [
    {
     "data": {
      "text/plain": [
       "0"
      ]
     },
     "execution_count": 13,
     "metadata": {},
     "output_type": "execute_result"
    }
   ],
   "source": [
    "test_df.duplicated().sum()"
   ]
  },
  {
   "cell_type": "markdown",
   "metadata": {
    "papermill": {
     "duration": 0.036333,
     "end_time": "2021-08-30T13:05:40.732062",
     "exception": false,
     "start_time": "2021-08-30T13:05:40.695729",
     "status": "completed"
    },
    "tags": []
   },
   "source": [
    "dealing with date time column"
   ]
  },
  {
   "cell_type": "code",
   "execution_count": 14,
   "metadata": {
    "execution": {
     "iopub.execute_input": "2021-08-30T13:05:40.809504Z",
     "iopub.status.busy": "2021-08-30T13:05:40.808778Z",
     "iopub.status.idle": "2021-08-30T13:05:40.826313Z",
     "shell.execute_reply": "2021-08-30T13:05:40.825712Z",
     "shell.execute_reply.started": "2021-08-30T12:56:29.284113Z"
    },
    "papermill": {
     "duration": 0.057179,
     "end_time": "2021-08-30T13:05:40.826463",
     "exception": false,
     "start_time": "2021-08-30T13:05:40.769284",
     "status": "completed"
    },
    "tags": []
   },
   "outputs": [],
   "source": [
    "date_col = pd.to_datetime(test_df['datetime']).dt\n",
    "\n",
    "test_df[\"Year\"] = date_col.year\n",
    "test_df[\"Month\"] = date_col.month\n",
    "test_df[\"Day\"] = date_col.day\n",
    "test_df[\"Hour\"] = date_col.hour"
   ]
  },
  {
   "cell_type": "code",
   "execution_count": 15,
   "metadata": {
    "execution": {
     "iopub.execute_input": "2021-08-30T13:05:40.913056Z",
     "iopub.status.busy": "2021-08-30T13:05:40.912364Z",
     "iopub.status.idle": "2021-08-30T13:05:40.923284Z",
     "shell.execute_reply": "2021-08-30T13:05:40.922705Z",
     "shell.execute_reply.started": "2021-08-30T12:56:29.301341Z"
    },
    "papermill": {
     "duration": 0.059572,
     "end_time": "2021-08-30T13:05:40.923435",
     "exception": false,
     "start_time": "2021-08-30T13:05:40.863863",
     "status": "completed"
    },
    "tags": []
   },
   "outputs": [],
   "source": [
    "date_col = pd.to_datetime(train_df['datetime']).dt\n",
    "\n",
    "train_df[\"Year\"] = date_col.year\n",
    "train_df[\"Month\"] = date_col.month\n",
    "train_df[\"Day\"] = date_col.day\n",
    "train_df[\"Hour\"] = date_col.hour"
   ]
  },
  {
   "cell_type": "code",
   "execution_count": 16,
   "metadata": {
    "execution": {
     "iopub.execute_input": "2021-08-30T13:05:41.013834Z",
     "iopub.status.busy": "2021-08-30T13:05:41.012602Z",
     "iopub.status.idle": "2021-08-30T13:05:41.027942Z",
     "shell.execute_reply": "2021-08-30T13:05:41.028416Z",
     "shell.execute_reply.started": "2021-08-30T12:56:29.321045Z"
    },
    "papermill": {
     "duration": 0.067361,
     "end_time": "2021-08-30T13:05:41.028597",
     "exception": false,
     "start_time": "2021-08-30T13:05:40.961236",
     "status": "completed"
    },
    "tags": []
   },
   "outputs": [
    {
     "data": {
      "text/html": [
       "<div>\n",
       "<style scoped>\n",
       "    .dataframe tbody tr th:only-of-type {\n",
       "        vertical-align: middle;\n",
       "    }\n",
       "\n",
       "    .dataframe tbody tr th {\n",
       "        vertical-align: top;\n",
       "    }\n",
       "\n",
       "    .dataframe thead th {\n",
       "        text-align: right;\n",
       "    }\n",
       "</style>\n",
       "<table border=\"1\" class=\"dataframe\">\n",
       "  <thead>\n",
       "    <tr style=\"text-align: right;\">\n",
       "      <th></th>\n",
       "      <th>datetime</th>\n",
       "      <th>season</th>\n",
       "      <th>holiday</th>\n",
       "      <th>workingday</th>\n",
       "      <th>weather</th>\n",
       "      <th>temp</th>\n",
       "      <th>atemp</th>\n",
       "      <th>humidity</th>\n",
       "      <th>windspeed</th>\n",
       "      <th>count</th>\n",
       "      <th>Year</th>\n",
       "      <th>Month</th>\n",
       "      <th>Day</th>\n",
       "      <th>Hour</th>\n",
       "    </tr>\n",
       "  </thead>\n",
       "  <tbody>\n",
       "    <tr>\n",
       "      <th>0</th>\n",
       "      <td>2011-01-01 00:00:00</td>\n",
       "      <td>1</td>\n",
       "      <td>0</td>\n",
       "      <td>0</td>\n",
       "      <td>1</td>\n",
       "      <td>9.84</td>\n",
       "      <td>14.395</td>\n",
       "      <td>81</td>\n",
       "      <td>0.0000</td>\n",
       "      <td>16</td>\n",
       "      <td>2011</td>\n",
       "      <td>1</td>\n",
       "      <td>1</td>\n",
       "      <td>0</td>\n",
       "    </tr>\n",
       "    <tr>\n",
       "      <th>1</th>\n",
       "      <td>2011-01-01 01:00:00</td>\n",
       "      <td>1</td>\n",
       "      <td>0</td>\n",
       "      <td>0</td>\n",
       "      <td>1</td>\n",
       "      <td>9.02</td>\n",
       "      <td>13.635</td>\n",
       "      <td>80</td>\n",
       "      <td>0.0000</td>\n",
       "      <td>40</td>\n",
       "      <td>2011</td>\n",
       "      <td>1</td>\n",
       "      <td>1</td>\n",
       "      <td>1</td>\n",
       "    </tr>\n",
       "    <tr>\n",
       "      <th>2</th>\n",
       "      <td>2011-01-01 02:00:00</td>\n",
       "      <td>1</td>\n",
       "      <td>0</td>\n",
       "      <td>0</td>\n",
       "      <td>1</td>\n",
       "      <td>9.02</td>\n",
       "      <td>13.635</td>\n",
       "      <td>80</td>\n",
       "      <td>0.0000</td>\n",
       "      <td>32</td>\n",
       "      <td>2011</td>\n",
       "      <td>1</td>\n",
       "      <td>1</td>\n",
       "      <td>2</td>\n",
       "    </tr>\n",
       "    <tr>\n",
       "      <th>3</th>\n",
       "      <td>2011-01-01 03:00:00</td>\n",
       "      <td>1</td>\n",
       "      <td>0</td>\n",
       "      <td>0</td>\n",
       "      <td>1</td>\n",
       "      <td>9.84</td>\n",
       "      <td>14.395</td>\n",
       "      <td>75</td>\n",
       "      <td>0.0000</td>\n",
       "      <td>13</td>\n",
       "      <td>2011</td>\n",
       "      <td>1</td>\n",
       "      <td>1</td>\n",
       "      <td>3</td>\n",
       "    </tr>\n",
       "    <tr>\n",
       "      <th>4</th>\n",
       "      <td>2011-01-01 04:00:00</td>\n",
       "      <td>1</td>\n",
       "      <td>0</td>\n",
       "      <td>0</td>\n",
       "      <td>1</td>\n",
       "      <td>9.84</td>\n",
       "      <td>14.395</td>\n",
       "      <td>75</td>\n",
       "      <td>0.0000</td>\n",
       "      <td>1</td>\n",
       "      <td>2011</td>\n",
       "      <td>1</td>\n",
       "      <td>1</td>\n",
       "      <td>4</td>\n",
       "    </tr>\n",
       "    <tr>\n",
       "      <th>...</th>\n",
       "      <td>...</td>\n",
       "      <td>...</td>\n",
       "      <td>...</td>\n",
       "      <td>...</td>\n",
       "      <td>...</td>\n",
       "      <td>...</td>\n",
       "      <td>...</td>\n",
       "      <td>...</td>\n",
       "      <td>...</td>\n",
       "      <td>...</td>\n",
       "      <td>...</td>\n",
       "      <td>...</td>\n",
       "      <td>...</td>\n",
       "      <td>...</td>\n",
       "    </tr>\n",
       "    <tr>\n",
       "      <th>10881</th>\n",
       "      <td>2012-12-19 19:00:00</td>\n",
       "      <td>4</td>\n",
       "      <td>0</td>\n",
       "      <td>1</td>\n",
       "      <td>1</td>\n",
       "      <td>15.58</td>\n",
       "      <td>19.695</td>\n",
       "      <td>50</td>\n",
       "      <td>26.0027</td>\n",
       "      <td>336</td>\n",
       "      <td>2012</td>\n",
       "      <td>12</td>\n",
       "      <td>19</td>\n",
       "      <td>19</td>\n",
       "    </tr>\n",
       "    <tr>\n",
       "      <th>10882</th>\n",
       "      <td>2012-12-19 20:00:00</td>\n",
       "      <td>4</td>\n",
       "      <td>0</td>\n",
       "      <td>1</td>\n",
       "      <td>1</td>\n",
       "      <td>14.76</td>\n",
       "      <td>17.425</td>\n",
       "      <td>57</td>\n",
       "      <td>15.0013</td>\n",
       "      <td>241</td>\n",
       "      <td>2012</td>\n",
       "      <td>12</td>\n",
       "      <td>19</td>\n",
       "      <td>20</td>\n",
       "    </tr>\n",
       "    <tr>\n",
       "      <th>10883</th>\n",
       "      <td>2012-12-19 21:00:00</td>\n",
       "      <td>4</td>\n",
       "      <td>0</td>\n",
       "      <td>1</td>\n",
       "      <td>1</td>\n",
       "      <td>13.94</td>\n",
       "      <td>15.910</td>\n",
       "      <td>61</td>\n",
       "      <td>15.0013</td>\n",
       "      <td>168</td>\n",
       "      <td>2012</td>\n",
       "      <td>12</td>\n",
       "      <td>19</td>\n",
       "      <td>21</td>\n",
       "    </tr>\n",
       "    <tr>\n",
       "      <th>10884</th>\n",
       "      <td>2012-12-19 22:00:00</td>\n",
       "      <td>4</td>\n",
       "      <td>0</td>\n",
       "      <td>1</td>\n",
       "      <td>1</td>\n",
       "      <td>13.94</td>\n",
       "      <td>17.425</td>\n",
       "      <td>61</td>\n",
       "      <td>6.0032</td>\n",
       "      <td>129</td>\n",
       "      <td>2012</td>\n",
       "      <td>12</td>\n",
       "      <td>19</td>\n",
       "      <td>22</td>\n",
       "    </tr>\n",
       "    <tr>\n",
       "      <th>10885</th>\n",
       "      <td>2012-12-19 23:00:00</td>\n",
       "      <td>4</td>\n",
       "      <td>0</td>\n",
       "      <td>1</td>\n",
       "      <td>1</td>\n",
       "      <td>13.12</td>\n",
       "      <td>16.665</td>\n",
       "      <td>66</td>\n",
       "      <td>8.9981</td>\n",
       "      <td>88</td>\n",
       "      <td>2012</td>\n",
       "      <td>12</td>\n",
       "      <td>19</td>\n",
       "      <td>23</td>\n",
       "    </tr>\n",
       "  </tbody>\n",
       "</table>\n",
       "<p>10886 rows × 14 columns</p>\n",
       "</div>"
      ],
      "text/plain": [
       "                  datetime  season  holiday  workingday  weather   temp  \\\n",
       "0      2011-01-01 00:00:00       1        0           0        1   9.84   \n",
       "1      2011-01-01 01:00:00       1        0           0        1   9.02   \n",
       "2      2011-01-01 02:00:00       1        0           0        1   9.02   \n",
       "3      2011-01-01 03:00:00       1        0           0        1   9.84   \n",
       "4      2011-01-01 04:00:00       1        0           0        1   9.84   \n",
       "...                    ...     ...      ...         ...      ...    ...   \n",
       "10881  2012-12-19 19:00:00       4        0           1        1  15.58   \n",
       "10882  2012-12-19 20:00:00       4        0           1        1  14.76   \n",
       "10883  2012-12-19 21:00:00       4        0           1        1  13.94   \n",
       "10884  2012-12-19 22:00:00       4        0           1        1  13.94   \n",
       "10885  2012-12-19 23:00:00       4        0           1        1  13.12   \n",
       "\n",
       "        atemp  humidity  windspeed  count  Year  Month  Day  Hour  \n",
       "0      14.395        81     0.0000     16  2011      1    1     0  \n",
       "1      13.635        80     0.0000     40  2011      1    1     1  \n",
       "2      13.635        80     0.0000     32  2011      1    1     2  \n",
       "3      14.395        75     0.0000     13  2011      1    1     3  \n",
       "4      14.395        75     0.0000      1  2011      1    1     4  \n",
       "...       ...       ...        ...    ...   ...    ...  ...   ...  \n",
       "10881  19.695        50    26.0027    336  2012     12   19    19  \n",
       "10882  17.425        57    15.0013    241  2012     12   19    20  \n",
       "10883  15.910        61    15.0013    168  2012     12   19    21  \n",
       "10884  17.425        61     6.0032    129  2012     12   19    22  \n",
       "10885  16.665        66     8.9981     88  2012     12   19    23  \n",
       "\n",
       "[10886 rows x 14 columns]"
      ]
     },
     "execution_count": 16,
     "metadata": {},
     "output_type": "execute_result"
    }
   ],
   "source": [
    "train_df"
   ]
  },
  {
   "cell_type": "code",
   "execution_count": 17,
   "metadata": {
    "execution": {
     "iopub.execute_input": "2021-08-30T13:05:41.107263Z",
     "iopub.status.busy": "2021-08-30T13:05:41.106549Z",
     "iopub.status.idle": "2021-08-30T13:05:41.109888Z",
     "shell.execute_reply": "2021-08-30T13:05:41.110424Z",
     "shell.execute_reply.started": "2021-08-30T12:56:29.352987Z"
    },
    "papermill": {
     "duration": 0.044301,
     "end_time": "2021-08-30T13:05:41.110598",
     "exception": false,
     "start_time": "2021-08-30T13:05:41.066297",
     "status": "completed"
    },
    "tags": []
   },
   "outputs": [],
   "source": [
    "# train_df.drop(columns=['datetime'],inplace=True)"
   ]
  },
  {
   "cell_type": "code",
   "execution_count": 18,
   "metadata": {
    "execution": {
     "iopub.execute_input": "2021-08-30T13:05:41.190575Z",
     "iopub.status.busy": "2021-08-30T13:05:41.189925Z",
     "iopub.status.idle": "2021-08-30T13:05:41.193105Z",
     "shell.execute_reply": "2021-08-30T13:05:41.193679Z",
     "shell.execute_reply.started": "2021-08-30T12:56:29.358089Z"
    },
    "papermill": {
     "duration": 0.045403,
     "end_time": "2021-08-30T13:05:41.193862",
     "exception": false,
     "start_time": "2021-08-30T13:05:41.148459",
     "status": "completed"
    },
    "tags": []
   },
   "outputs": [],
   "source": [
    "# test_df.drop(columns=['datetime'],inplace=True)"
   ]
  },
  {
   "cell_type": "code",
   "execution_count": 19,
   "metadata": {
    "execution": {
     "iopub.execute_input": "2021-08-30T13:05:41.272242Z",
     "iopub.status.busy": "2021-08-30T13:05:41.271576Z",
     "iopub.status.idle": "2021-08-30T13:05:41.275328Z",
     "shell.execute_reply": "2021-08-30T13:05:41.274655Z",
     "shell.execute_reply.started": "2021-08-30T12:56:29.374434Z"
    },
    "papermill": {
     "duration": 0.043989,
     "end_time": "2021-08-30T13:05:41.275469",
     "exception": false,
     "start_time": "2021-08-30T13:05:41.231480",
     "status": "completed"
    },
    "tags": []
   },
   "outputs": [],
   "source": [
    "#display the correaltion matrix"
   ]
  },
  {
   "cell_type": "code",
   "execution_count": 20,
   "metadata": {
    "execution": {
     "iopub.execute_input": "2021-08-30T13:05:41.354094Z",
     "iopub.status.busy": "2021-08-30T13:05:41.353415Z",
     "iopub.status.idle": "2021-08-30T13:05:41.372684Z",
     "shell.execute_reply": "2021-08-30T13:05:41.373164Z",
     "shell.execute_reply.started": "2021-08-30T12:56:29.385838Z"
    },
    "papermill": {
     "duration": 0.060326,
     "end_time": "2021-08-30T13:05:41.373353",
     "exception": false,
     "start_time": "2021-08-30T13:05:41.313027",
     "status": "completed"
    },
    "tags": []
   },
   "outputs": [
    {
     "data": {
      "text/plain": [
       "count         1.000000\n",
       "Hour          0.400601\n",
       "temp          0.394454\n",
       "atemp         0.389784\n",
       "Year          0.260403\n",
       "Month         0.166862\n",
       "season        0.163439\n",
       "windspeed     0.101369\n",
       "Day           0.019826\n",
       "workingday    0.011594\n",
       "holiday      -0.005393\n",
       "weather      -0.128655\n",
       "humidity     -0.317371\n",
       "Name: count, dtype: float64"
      ]
     },
     "execution_count": 20,
     "metadata": {},
     "output_type": "execute_result"
    }
   ],
   "source": [
    "corr_matrix = train_df.corr()\n",
    "corr_matrix['count'].sort_values(ascending=False)"
   ]
  },
  {
   "cell_type": "code",
   "execution_count": 21,
   "metadata": {
    "execution": {
     "iopub.execute_input": "2021-08-30T13:05:41.453225Z",
     "iopub.status.busy": "2021-08-30T13:05:41.452580Z",
     "iopub.status.idle": "2021-08-30T13:05:41.463460Z",
     "shell.execute_reply": "2021-08-30T13:05:41.462797Z",
     "shell.execute_reply.started": "2021-08-30T12:56:29.413206Z"
    },
    "papermill": {
     "duration": 0.051685,
     "end_time": "2021-08-30T13:05:41.463600",
     "exception": false,
     "start_time": "2021-08-30T13:05:41.411915",
     "status": "completed"
    },
    "tags": []
   },
   "outputs": [
    {
     "data": {
      "text/plain": [
       "0.9849481104817069"
      ]
     },
     "execution_count": 21,
     "metadata": {},
     "output_type": "execute_result"
    }
   ],
   "source": [
    "train_df[\"temp\"].corr(train_df[\"atemp\"])\n",
    "# we can see that there's a high correlation between the two columns so we will probably need to drop one of them "
   ]
  },
  {
   "cell_type": "code",
   "execution_count": 22,
   "metadata": {
    "execution": {
     "iopub.execute_input": "2021-08-30T13:05:41.548216Z",
     "iopub.status.busy": "2021-08-30T13:05:41.547520Z",
     "iopub.status.idle": "2021-08-30T13:05:41.553493Z",
     "shell.execute_reply": "2021-08-30T13:05:41.554054Z",
     "shell.execute_reply.started": "2021-08-30T12:56:29.424234Z"
    },
    "papermill": {
     "duration": 0.051942,
     "end_time": "2021-08-30T13:05:41.554236",
     "exception": false,
     "start_time": "2021-08-30T13:05:41.502294",
     "status": "completed"
    },
    "tags": []
   },
   "outputs": [],
   "source": [
    "train_df.drop(columns=['atemp'],inplace=True)\n",
    "test_df.drop(columns=['atemp'],inplace=True)"
   ]
  },
  {
   "cell_type": "markdown",
   "metadata": {
    "papermill": {
     "duration": 0.03792,
     "end_time": "2021-08-30T13:05:41.630467",
     "exception": false,
     "start_time": "2021-08-30T13:05:41.592547",
     "status": "completed"
    },
    "tags": []
   },
   "source": [
    "# **visualization**"
   ]
  },
  {
   "cell_type": "code",
   "execution_count": 23,
   "metadata": {
    "execution": {
     "iopub.execute_input": "2021-08-30T13:05:41.710489Z",
     "iopub.status.busy": "2021-08-30T13:05:41.709802Z",
     "iopub.status.idle": "2021-08-30T13:05:41.712950Z",
     "shell.execute_reply": "2021-08-30T13:05:41.713423Z",
     "shell.execute_reply.started": "2021-08-30T12:56:29.439551Z"
    },
    "papermill": {
     "duration": 0.044895,
     "end_time": "2021-08-30T13:05:41.713601",
     "exception": false,
     "start_time": "2021-08-30T13:05:41.668706",
     "status": "completed"
    },
    "tags": []
   },
   "outputs": [],
   "source": [
    "# cols=train_df.columns\n",
    "# f = pd.melt(train_df, value_vars=cols)\n",
    "# g = sns.FacetGrid(f, col=\"variable\",  col_wrap=2, sharex=False, sharey=False)\n",
    "# g = g.map(sns.histplot, \"value\")\n"
   ]
  },
  {
   "cell_type": "code",
   "execution_count": 24,
   "metadata": {
    "execution": {
     "iopub.execute_input": "2021-08-30T13:05:41.794332Z",
     "iopub.status.busy": "2021-08-30T13:05:41.793658Z",
     "iopub.status.idle": "2021-08-30T13:05:41.796695Z",
     "shell.execute_reply": "2021-08-30T13:05:41.797191Z",
     "shell.execute_reply.started": "2021-08-30T12:56:29.447041Z"
    },
    "papermill": {
     "duration": 0.045112,
     "end_time": "2021-08-30T13:05:41.797362",
     "exception": false,
     "start_time": "2021-08-30T13:05:41.752250",
     "status": "completed"
    },
    "tags": []
   },
   "outputs": [],
   "source": [
    "# cor_mat= train_df[:].corr()\n",
    "# mask = np.array(cor_mat)\n",
    "# mask[np.tril_indices_from(mask)] = False\n",
    "# fig=plt.gcf()\n",
    "# fig.set_size_inches(30,12)\n",
    "# sns.heatmap(data=cor_mat,mask=mask,square=True,annot=True,cbar=True)"
   ]
  },
  {
   "cell_type": "code",
   "execution_count": 25,
   "metadata": {
    "execution": {
     "iopub.execute_input": "2021-08-30T13:05:41.880329Z",
     "iopub.status.busy": "2021-08-30T13:05:41.879542Z",
     "iopub.status.idle": "2021-08-30T13:05:41.885553Z",
     "shell.execute_reply": "2021-08-30T13:05:41.884842Z",
     "shell.execute_reply.started": "2021-08-30T12:56:29.457130Z"
    },
    "papermill": {
     "duration": 0.049842,
     "end_time": "2021-08-30T13:05:41.885853",
     "exception": false,
     "start_time": "2021-08-30T13:05:41.836011",
     "status": "completed"
    },
    "tags": []
   },
   "outputs": [
    {
     "name": "stdout",
     "output_type": "stream",
     "text": [
      "Index(['datetime', 'season', 'holiday', 'workingday', 'weather', 'temp',\n",
      "       'humidity', 'windspeed', 'count', 'Year', 'Month', 'Day', 'Hour'],\n",
      "      dtype='object')\n",
      "Index(['datetime', 'season', 'holiday', 'workingday', 'weather', 'temp',\n",
      "       'humidity', 'windspeed', 'Year', 'Month', 'Day', 'Hour'],\n",
      "      dtype='object')\n"
     ]
    }
   ],
   "source": [
    "print(train_df.columns)\n",
    "print(test_df.columns)"
   ]
  },
  {
   "cell_type": "code",
   "execution_count": 26,
   "metadata": {
    "execution": {
     "iopub.execute_input": "2021-08-30T13:05:41.970737Z",
     "iopub.status.busy": "2021-08-30T13:05:41.970022Z",
     "iopub.status.idle": "2021-08-30T13:05:41.973343Z",
     "shell.execute_reply": "2021-08-30T13:05:41.972817Z",
     "shell.execute_reply.started": "2021-08-30T12:56:29.472425Z"
    },
    "papermill": {
     "duration": 0.046284,
     "end_time": "2021-08-30T13:05:41.973493",
     "exception": false,
     "start_time": "2021-08-30T13:05:41.927209",
     "status": "completed"
    },
    "tags": []
   },
   "outputs": [],
   "source": [
    "#pairplots to get an intuition of potential correlations\n",
    "# sns.pairplot(train_df, diag_kind=\"kde\")"
   ]
  },
  {
   "cell_type": "markdown",
   "metadata": {
    "papermill": {
     "duration": 0.038814,
     "end_time": "2021-08-30T13:05:42.052729",
     "exception": false,
     "start_time": "2021-08-30T13:05:42.013915",
     "status": "completed"
    },
    "tags": []
   },
   "source": [
    "# **modeling**"
   ]
  },
  {
   "cell_type": "code",
   "execution_count": 27,
   "metadata": {
    "execution": {
     "iopub.execute_input": "2021-08-30T13:05:42.136355Z",
     "iopub.status.busy": "2021-08-30T13:05:42.135591Z",
     "iopub.status.idle": "2021-08-30T13:05:42.365720Z",
     "shell.execute_reply": "2021-08-30T13:05:42.365068Z",
     "shell.execute_reply.started": "2021-08-30T13:04:33.530369Z"
    },
    "papermill": {
     "duration": 0.274137,
     "end_time": "2021-08-30T13:05:42.365876",
     "exception": false,
     "start_time": "2021-08-30T13:05:42.091739",
     "status": "completed"
    },
    "tags": []
   },
   "outputs": [],
   "source": [
    "# from sklearn.preprocessing import LabelEncoder\n",
    "from sklearn.model_selection import train_test_split\n",
    "from sklearn.metrics import mean_squared_error\n",
    "from sklearn.metrics import mean_squared_log_error\n",
    "# from sklearn.ensemble import BaggingRegressor\n",
    "# from sklearn.svm import SVR\n",
    "# import seaborn as sns\n",
    "# from sklearn.ensemble import RandomForestRegressor"
   ]
  },
  {
   "cell_type": "code",
   "execution_count": 28,
   "metadata": {
    "execution": {
     "iopub.execute_input": "2021-08-30T13:05:42.451494Z",
     "iopub.status.busy": "2021-08-30T13:05:42.450339Z",
     "iopub.status.idle": "2021-08-30T13:05:42.464143Z",
     "shell.execute_reply": "2021-08-30T13:05:42.463450Z",
     "shell.execute_reply.started": "2021-08-30T13:04:33.736921Z"
    },
    "papermill": {
     "duration": 0.05915,
     "end_time": "2021-08-30T13:05:42.464282",
     "exception": false,
     "start_time": "2021-08-30T13:05:42.405132",
     "status": "completed"
    },
    "tags": []
   },
   "outputs": [],
   "source": [
    "train_df['count']=np.log1p(train_df['count'])\n",
    "Y_train = train_df['count']\n",
    "X_train = train_df.drop(['count'], axis=1)\n",
    "x_train, x_val, y_train, y_val = train_test_split(X_train , Y_train,  train_size=0.8, test_size=0.2, random_state =0)"
   ]
  },
  {
   "cell_type": "code",
   "execution_count": 29,
   "metadata": {
    "execution": {
     "iopub.execute_input": "2021-08-30T13:05:42.547739Z",
     "iopub.status.busy": "2021-08-30T13:05:42.547029Z",
     "iopub.status.idle": "2021-08-30T13:05:42.658453Z",
     "shell.execute_reply": "2021-08-30T13:05:42.657913Z",
     "shell.execute_reply.started": "2021-08-30T13:04:33.933922Z"
    },
    "papermill": {
     "duration": 0.154846,
     "end_time": "2021-08-30T13:05:42.658601",
     "exception": false,
     "start_time": "2021-08-30T13:05:42.503755",
     "status": "completed"
    },
    "tags": []
   },
   "outputs": [],
   "source": [
    "import xgboost as xgb"
   ]
  },
  {
   "cell_type": "code",
   "execution_count": 30,
   "metadata": {
    "execution": {
     "iopub.execute_input": "2021-08-30T13:05:42.743595Z",
     "iopub.status.busy": "2021-08-30T13:05:42.742542Z",
     "iopub.status.idle": "2021-08-30T13:05:42.746069Z",
     "shell.execute_reply": "2021-08-30T13:05:42.745475Z",
     "shell.execute_reply.started": "2021-08-30T13:04:34.211983Z"
    },
    "papermill": {
     "duration": 0.048464,
     "end_time": "2021-08-30T13:05:42.746215",
     "exception": false,
     "start_time": "2021-08-30T13:05:42.697751",
     "status": "completed"
    },
    "tags": []
   },
   "outputs": [],
   "source": [
    "from sklearn.model_selection import GridSearchCV\n",
    "clf = xgb.XGBRegressor(n_estimators=196, objective='count:poisson', max_depth=5)\n",
    "grid_values = {'n_estimators': list(range(190, 200, 2))}\n",
    "grid_clf_acc = GridSearchCV(clf, param_grid = grid_values)\n",
    "# grid_clf_acc.fit(x_train.drop(columns=['datetime']), y_train.drop(columns=['datetime']))\n",
    "\n",
    "# # Predict values based on new parameters\n",
    "# y_pred_acc = grid_clf_acc.predict(x_val.drop(columns=['datetime']))\n",
    "# y_pred_acc_train = grid_clf_acc.predict(x_train.drop(columns=['datetime']))\n",
    "\n",
    "# print(y_pred_acc)\n",
    "# print(y_pred_acc_train)"
   ]
  },
  {
   "cell_type": "code",
   "execution_count": 31,
   "metadata": {
    "execution": {
     "iopub.execute_input": "2021-08-30T13:05:42.826874Z",
     "iopub.status.busy": "2021-08-30T13:05:42.825859Z",
     "iopub.status.idle": "2021-08-30T13:05:56.629551Z",
     "shell.execute_reply": "2021-08-30T13:05:56.630400Z",
     "shell.execute_reply.started": "2021-08-30T13:04:34.446533Z"
    },
    "papermill": {
     "duration": 13.846108,
     "end_time": "2021-08-30T13:05:56.630677",
     "exception": false,
     "start_time": "2021-08-30T13:05:42.784569",
     "status": "completed"
    },
    "tags": []
   },
   "outputs": [
    {
     "name": "stdout",
     "output_type": "stream",
     "text": [
      "The error on train is: 0.22597526476661114\n",
      "The error on validation is: 0.31526273824324463\n",
      "Score of XGB_reg_model= 0.951957043174414\n",
      "Score of XGB_reg_model= 0.9744817039264007\n"
     ]
    }
   ],
   "source": [
    "# import xgboost as xgb\n",
    "\n",
    "# xg_reg = xgb.XGBRegressor( max_depth=5, n_estimators=200 ,objective='count:poisson')\n",
    "grid_clf_acc.fit(x_train.drop(columns=['datetime']),y_train.drop(columns=['datetime']))\n",
    "pred=grid_clf_acc.predict(x_val.drop(columns=['datetime']))\n",
    "er=np.sqrt(mean_squared_error(y_train.drop(columns=['datetime']) , grid_clf_acc.predict(x_train.drop(columns=['datetime']))))\n",
    "error=np.sqrt(mean_squared_error(y_val.drop(columns=['datetime']), pred))\n",
    "print(\"The error on train is:\",er)\n",
    "print(\"The error on validation is:\",error)\n",
    "print(f\"Score of XGB_reg_model= {grid_clf_acc.score(x_val.drop(columns=['datetime']), y_val.drop(columns=['datetime']))}\")\n",
    "print(f\"Score of XGB_reg_model= {grid_clf_acc.score(x_train.drop(columns=['datetime']), y_train.drop(columns=['datetime']))}\")"
   ]
  },
  {
   "cell_type": "code",
   "execution_count": 32,
   "metadata": {
    "execution": {
     "iopub.execute_input": "2021-08-30T13:05:56.716364Z",
     "iopub.status.busy": "2021-08-30T13:05:56.715488Z",
     "iopub.status.idle": "2021-08-30T13:05:56.719864Z",
     "shell.execute_reply": "2021-08-30T13:05:56.719240Z",
     "shell.execute_reply.started": "2021-08-30T13:04:47.765837Z"
    },
    "papermill": {
     "duration": 0.048306,
     "end_time": "2021-08-30T13:05:56.720012",
     "exception": false,
     "start_time": "2021-08-30T13:05:56.671706",
     "status": "completed"
    },
    "tags": []
   },
   "outputs": [
    {
     "data": {
      "text/plain": [
       "(10886, 13)"
      ]
     },
     "execution_count": 32,
     "metadata": {},
     "output_type": "execute_result"
    }
   ],
   "source": [
    "train_df.shape"
   ]
  },
  {
   "cell_type": "code",
   "execution_count": 33,
   "metadata": {
    "execution": {
     "iopub.execute_input": "2021-08-30T13:05:56.803255Z",
     "iopub.status.busy": "2021-08-30T13:05:56.802535Z",
     "iopub.status.idle": "2021-08-30T13:05:56.805223Z",
     "shell.execute_reply": "2021-08-30T13:05:56.805689Z"
    },
    "papermill": {
     "duration": 0.046855,
     "end_time": "2021-08-30T13:05:56.805867",
     "exception": false,
     "start_time": "2021-08-30T13:05:56.759012",
     "status": "completed"
    },
    "tags": []
   },
   "outputs": [
    {
     "data": {
      "text/plain": [
       "(6493, 12)"
      ]
     },
     "execution_count": 33,
     "metadata": {},
     "output_type": "execute_result"
    }
   ],
   "source": [
    "test_df.shape"
   ]
  },
  {
   "cell_type": "code",
   "execution_count": 34,
   "metadata": {
    "execution": {
     "iopub.execute_input": "2021-08-30T13:05:56.888024Z",
     "iopub.status.busy": "2021-08-30T13:05:56.887324Z",
     "iopub.status.idle": "2021-08-30T13:05:56.906840Z",
     "shell.execute_reply": "2021-08-30T13:05:56.907397Z",
     "shell.execute_reply.started": "2021-08-30T13:05:09.639711Z"
    },
    "papermill": {
     "duration": 0.062411,
     "end_time": "2021-08-30T13:05:56.907574",
     "exception": false,
     "start_time": "2021-08-30T13:05:56.845163",
     "status": "completed"
    },
    "tags": []
   },
   "outputs": [],
   "source": [
    "final_y_test = grid_clf_acc.predict(test_df.drop(columns=['datetime'])) \n",
    "final_y_test = np.round(np.expm1(final_y_test))"
   ]
  },
  {
   "cell_type": "code",
   "execution_count": 35,
   "metadata": {
    "execution": {
     "iopub.execute_input": "2021-08-30T13:05:56.995739Z",
     "iopub.status.busy": "2021-08-30T13:05:56.994736Z",
     "iopub.status.idle": "2021-08-30T13:05:56.997962Z",
     "shell.execute_reply": "2021-08-30T13:05:56.997444Z",
     "shell.execute_reply.started": "2021-08-30T13:05:09.961081Z"
    },
    "papermill": {
     "duration": 0.048166,
     "end_time": "2021-08-30T13:05:56.998107",
     "exception": false,
     "start_time": "2021-08-30T13:05:56.949941",
     "status": "completed"
    },
    "tags": []
   },
   "outputs": [],
   "source": [
    "test_df['count']=final_y_test"
   ]
  },
  {
   "cell_type": "code",
   "execution_count": 36,
   "metadata": {
    "execution": {
     "iopub.execute_input": "2021-08-30T13:05:57.082111Z",
     "iopub.status.busy": "2021-08-30T13:05:57.081482Z",
     "iopub.status.idle": "2021-08-30T13:05:57.084313Z",
     "shell.execute_reply": "2021-08-30T13:05:57.083700Z",
     "shell.execute_reply.started": "2021-08-30T13:05:10.168024Z"
    },
    "papermill": {
     "duration": 0.04602,
     "end_time": "2021-08-30T13:05:57.084450",
     "exception": false,
     "start_time": "2021-08-30T13:05:57.038430",
     "status": "completed"
    },
    "tags": []
   },
   "outputs": [],
   "source": [
    "# final_y_test.shape"
   ]
  },
  {
   "cell_type": "code",
   "execution_count": 37,
   "metadata": {
    "execution": {
     "iopub.execute_input": "2021-08-30T13:05:57.167769Z",
     "iopub.status.busy": "2021-08-30T13:05:57.167115Z",
     "iopub.status.idle": "2021-08-30T13:05:57.198658Z",
     "shell.execute_reply": "2021-08-30T13:05:57.197880Z",
     "shell.execute_reply.started": "2021-08-30T13:05:10.321950Z"
    },
    "papermill": {
     "duration": 0.074691,
     "end_time": "2021-08-30T13:05:57.198811",
     "exception": false,
     "start_time": "2021-08-30T13:05:57.124120",
     "status": "completed"
    },
    "tags": []
   },
   "outputs": [],
   "source": [
    "test_df[['datetime', 'count']].to_csv('/kaggle/working/submission.csv', index=False)"
   ]
  },
  {
   "cell_type": "code",
   "execution_count": null,
   "metadata": {
    "papermill": {
     "duration": 0.039228,
     "end_time": "2021-08-30T13:05:57.278133",
     "exception": false,
     "start_time": "2021-08-30T13:05:57.238905",
     "status": "completed"
    },
    "tags": []
   },
   "outputs": [],
   "source": []
  },
  {
   "cell_type": "code",
   "execution_count": null,
   "metadata": {
    "papermill": {
     "duration": 0.038965,
     "end_time": "2021-08-30T13:05:57.356622",
     "exception": false,
     "start_time": "2021-08-30T13:05:57.317657",
     "status": "completed"
    },
    "tags": []
   },
   "outputs": [],
   "source": []
  }
 ],
 "metadata": {
  "kernelspec": {
   "display_name": "Python 3",
   "language": "python",
   "name": "python3"
  },
  "language_info": {
   "codemirror_mode": {
    "name": "ipython",
    "version": 3
   },
   "file_extension": ".py",
   "mimetype": "text/x-python",
   "name": "python",
   "nbconvert_exporter": "python",
   "pygments_lexer": "ipython3",
   "version": "3.8.5"
  },
  "papermill": {
   "default_parameters": {},
   "duration": 29.717274,
   "end_time": "2021-08-30T13:05:58.206930",
   "environment_variables": {},
   "exception": null,
   "input_path": "__notebook__.ipynb",
   "output_path": "__notebook__.ipynb",
   "parameters": {},
   "start_time": "2021-08-30T13:05:28.489656",
   "version": "2.3.3"
  }
 },
 "nbformat": 4,
 "nbformat_minor": 5
}
